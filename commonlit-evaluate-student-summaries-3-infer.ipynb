{
 "cells": [
  {
   "cell_type": "code",
   "execution_count": 1,
   "id": "3c9e78b0",
   "metadata": {
    "execution": {
     "iopub.execute_input": "2023-09-08T01:58:59.368631Z",
     "iopub.status.busy": "2023-09-08T01:58:59.368204Z",
     "iopub.status.idle": "2023-09-08T02:00:33.763639Z",
     "shell.execute_reply": "2023-09-08T02:00:33.762444Z"
    },
    "papermill": {
     "duration": 94.412379,
     "end_time": "2023-09-08T02:00:33.766522",
     "exception": false,
     "start_time": "2023-09-08T01:58:59.354143",
     "status": "completed"
    },
    "tags": []
   },
   "outputs": [
    {
     "name": "stdout",
     "output_type": "stream",
     "text": [
      "Processing /kaggle/input/textstat-pypi/Pyphen-0.9.3-py2.py3-none-any.whl\r\n",
      "Installing collected packages: Pyphen\r\n",
      "Successfully installed Pyphen-0.9.3\r\n",
      "Processing /kaggle/input/textstat-pypi/textstat-0.7.0-py3-none-any.whl\r\n",
      "Requirement already satisfied: pyphen in /opt/conda/lib/python3.10/site-packages (from textstat==0.7.0) (0.9.3)\r\n",
      "Installing collected packages: textstat\r\n",
      "Successfully installed textstat-0.7.0\r\n",
      "Processing /kaggle/input/pyspellchecker/pyspellchecker-0.7.2-py3-none-any.whl\r\n",
      "Installing collected packages: pyspellchecker\r\n",
      "Successfully installed pyspellchecker-0.7.2\r\n"
     ]
    }
   ],
   "source": [
    "!pip install /kaggle/input/textstat-pypi/Pyphen-0.9.3-py2.py3-none-any.whl\n",
    "!pip install /kaggle/input/textstat-pypi/textstat-0.7.0-py3-none-any.whl\n",
    "!pip install /kaggle/input/pyspellchecker/pyspellchecker-0.7.2-py3-none-any.whl"
   ]
  },
  {
   "cell_type": "code",
   "execution_count": 2,
   "id": "73a34083",
   "metadata": {
    "_cell_guid": "b1076dfc-b9ad-4769-8c92-a6c4dae69d19",
    "_uuid": "8f2839f25d086af736a60e9eeb907d3b93b6e0e5",
    "execution": {
     "iopub.execute_input": "2023-09-08T02:00:33.793204Z",
     "iopub.status.busy": "2023-09-08T02:00:33.792874Z",
     "iopub.status.idle": "2023-09-08T02:00:50.502284Z",
     "shell.execute_reply": "2023-09-08T02:00:50.501299Z"
    },
    "papermill": {
     "duration": 16.725371,
     "end_time": "2023-09-08T02:00:50.504724",
     "exception": false,
     "start_time": "2023-09-08T02:00:33.779353",
     "status": "completed"
    },
    "tags": []
   },
   "outputs": [
    {
     "name": "stderr",
     "output_type": "stream",
     "text": [
      "/opt/conda/lib/python3.10/site-packages/scipy/__init__.py:146: UserWarning: A NumPy version >=1.16.5 and <1.23.0 is required for this version of SciPy (detected version 1.23.5\n",
      "  warnings.warn(f\"A NumPy version >={np_minversion} and <{np_maxversion}\"\n",
      "/opt/conda/lib/python3.10/site-packages/tensorflow_io/python/ops/__init__.py:98: UserWarning: unable to load libtensorflow_io_plugins.so: unable to open file: libtensorflow_io_plugins.so, from paths: ['/opt/conda/lib/python3.10/site-packages/tensorflow_io/python/ops/libtensorflow_io_plugins.so']\n",
      "caused by: ['/opt/conda/lib/python3.10/site-packages/tensorflow_io/python/ops/libtensorflow_io_plugins.so: undefined symbol: _ZN3tsl6StatusC1EN10tensorflow5error4CodeESt17basic_string_viewIcSt11char_traitsIcEENS_14SourceLocationE']\n",
      "  warnings.warn(f\"unable to load libtensorflow_io_plugins.so: {e}\")\n",
      "/opt/conda/lib/python3.10/site-packages/tensorflow_io/python/ops/__init__.py:104: UserWarning: file system plugins are not loaded: unable to open file: libtensorflow_io.so, from paths: ['/opt/conda/lib/python3.10/site-packages/tensorflow_io/python/ops/libtensorflow_io.so']\n",
      "caused by: ['/opt/conda/lib/python3.10/site-packages/tensorflow_io/python/ops/libtensorflow_io.so: undefined symbol: _ZTVN10tensorflow13GcsFileSystemE']\n",
      "  warnings.warn(f\"file system plugins are not loaded: {e}\")\n"
     ]
    }
   ],
   "source": [
    "import re\n",
    "from sklearn import metrics\n",
    "from sklearn.model_selection import train_test_split\n",
    "import textstat\n",
    "import catboost\n",
    "import lightgbm\n",
    "import spacy\n",
    "import nltk\n",
    "from spellchecker import SpellChecker\n",
    "\n",
    "import os\n",
    "from tqdm.auto import tqdm\n",
    "import numpy as np\n",
    "import pandas as pd\n",
    "from transformers import AutoModelForSequenceClassification, AutoTokenizer, AutoConfig\n",
    "import torch\n",
    "from sklearn.model_selection import StratifiedKFold\n",
    "import time\n",
    "import gc\n",
    "import random\n",
    "import warnings\n",
    "warnings.filterwarnings(\"ignore\")\n",
    "torch.backends.cudnn.benchmark=False\n",
    "torch.backends.cudnn.deterministic=True"
   ]
  },
  {
   "cell_type": "code",
   "execution_count": 3,
   "id": "63ef35de",
   "metadata": {
    "execution": {
     "iopub.execute_input": "2023-09-08T02:00:50.530973Z",
     "iopub.status.busy": "2023-09-08T02:00:50.530235Z",
     "iopub.status.idle": "2023-09-08T02:00:50.536224Z",
     "shell.execute_reply": "2023-09-08T02:00:50.535326Z"
    },
    "papermill": {
     "duration": 0.021002,
     "end_time": "2023-09-08T02:00:50.538202",
     "exception": false,
     "start_time": "2023-09-08T02:00:50.517200",
     "status": "completed"
    },
    "tags": []
   },
   "outputs": [],
   "source": [
    "OUTPUT_DIR = './'\n",
    "if not os.path.exists(OUTPUT_DIR):\n",
    "    os.makedirs(OUTPUT_DIR)"
   ]
  },
  {
   "cell_type": "code",
   "execution_count": 4,
   "id": "9ccb3509",
   "metadata": {
    "execution": {
     "iopub.execute_input": "2023-09-08T02:00:50.563570Z",
     "iopub.status.busy": "2023-09-08T02:00:50.563300Z",
     "iopub.status.idle": "2023-09-08T02:00:50.574546Z",
     "shell.execute_reply": "2023-09-08T02:00:50.573627Z"
    },
    "papermill": {
     "duration": 0.026323,
     "end_time": "2023-09-08T02:00:50.576461",
     "exception": false,
     "start_time": "2023-09-08T02:00:50.550138",
     "status": "completed"
    },
    "tags": []
   },
   "outputs": [],
   "source": [
    "class cfg:\n",
    "    select = 'base'\n",
    "    model_name = f'/kaggle/input/deberta-v3-{select}/deberta-v3-{select}'\n",
    "    only_model_name = f'deberta-v3-{select}'\n",
    "    accum_iter = 4\n",
    "    fold = 4\n",
    "    seed = 42\n",
    "    batch_size = 8\n",
    "    max_len = 512\n",
    "    num_epoch = 5\n",
    "    hidden_dropout_prob=0.005\n",
    "    attention_probs_dropout_prob=0.005\n",
    "    lr = 5e-5\n",
    "\n",
    "def seed_everything(seed: int):\n",
    "    \n",
    "    random.seed(seed)\n",
    "    os.environ['PYTHONHASHSEED'] = str(seed)\n",
    "    np.random.seed(seed)\n",
    "    torch.manual_seed(seed)\n",
    "    torch.cuda.manual_seed(seed)\n",
    "    torch.backends.cudnn.deterministic = True\n",
    "    torch.backends.cudnn.benchmark = True\n",
    "    \n",
    "    \n",
    "seed_everything(seed=cfg.seed)"
   ]
  },
  {
   "cell_type": "code",
   "execution_count": 5,
   "id": "9065e7b8",
   "metadata": {
    "execution": {
     "iopub.execute_input": "2023-09-08T02:00:50.602829Z",
     "iopub.status.busy": "2023-09-08T02:00:50.601404Z",
     "iopub.status.idle": "2023-09-08T02:00:50.608520Z",
     "shell.execute_reply": "2023-09-08T02:00:50.607662Z"
    },
    "papermill": {
     "duration": 0.02172,
     "end_time": "2023-09-08T02:00:50.610491",
     "exception": false,
     "start_time": "2023-09-08T02:00:50.588771",
     "status": "completed"
    },
    "tags": []
   },
   "outputs": [],
   "source": [
    "def MCRMSE(y_trues, y_preds):\n",
    "    scores = []\n",
    "    idxes = y_trues.shape[1]\n",
    "    for i in range(idxes):\n",
    "        y_true = y_trues[:,i]#.detach().to('cpu').numpy()\n",
    "        y_pred = y_preds[:,i]#.detach().to('cpu').numpy()\n",
    "        score = mean_squared_error(y_true, y_pred, squared=False) # RMSE\n",
    "        scores.append(score)\n",
    "    mcrmse_score = np.mean(scores)\n",
    "    return mcrmse_score, scores\n",
    "\n",
    "def score_loss(y_trues, y_preds):\n",
    "    mcrmse_score, scores = MCRMSE(y_trues, y_preds)\n",
    "    return {\n",
    "        'mcrmse_score' : mcrmse_score,\n",
    "        'Content_score' : scores[0],\n",
    "        'Wording_score' : scores[1]\n",
    "    }"
   ]
  },
  {
   "cell_type": "code",
   "execution_count": 6,
   "id": "12e881c0",
   "metadata": {
    "execution": {
     "iopub.execute_input": "2023-09-08T02:00:50.635865Z",
     "iopub.status.busy": "2023-09-08T02:00:50.635572Z",
     "iopub.status.idle": "2023-09-08T02:00:51.835959Z",
     "shell.execute_reply": "2023-09-08T02:00:51.834976Z"
    },
    "papermill": {
     "duration": 1.215218,
     "end_time": "2023-09-08T02:00:51.838118",
     "exception": false,
     "start_time": "2023-09-08T02:00:50.622900",
     "status": "completed"
    },
    "tags": []
   },
   "outputs": [
    {
     "name": "stderr",
     "output_type": "stream",
     "text": [
      "Special tokens have been added in the vocabulary, make sure the associated word embeddings are fine-tuned or trained.\n",
      "Special tokens have been added in the vocabulary, make sure the associated word embeddings are fine-tuned or trained.\n"
     ]
    }
   ],
   "source": [
    "tokenizer = AutoTokenizer.from_pretrained(cfg.model_name)\n",
    "cfg.tokenizer = tokenizer"
   ]
  },
  {
   "cell_type": "code",
   "execution_count": 7,
   "id": "8e911d2d",
   "metadata": {
    "execution": {
     "iopub.execute_input": "2023-09-08T02:00:51.864092Z",
     "iopub.status.busy": "2023-09-08T02:00:51.863782Z",
     "iopub.status.idle": "2023-09-08T02:00:51.991050Z",
     "shell.execute_reply": "2023-09-08T02:00:51.990087Z"
    },
    "papermill": {
     "duration": 0.142582,
     "end_time": "2023-09-08T02:00:51.993194",
     "exception": false,
     "start_time": "2023-09-08T02:00:51.850612",
     "status": "completed"
    },
    "tags": []
   },
   "outputs": [],
   "source": [
    "prompts_train = pd.read_csv('/kaggle/input/commonlit-evaluate-student-summaries/prompts_train.csv')\n",
    "summaries_train = pd.read_csv('/kaggle/input/commonlit-evaluate-student-summaries/summaries_train.csv')\n",
    "\n",
    "prompts_test = pd.read_csv('/kaggle/input/commonlit-evaluate-student-summaries/prompts_test.csv')\n",
    "summaries_test = pd.read_csv('/kaggle/input/commonlit-evaluate-student-summaries/summaries_test.csv')"
   ]
  },
  {
   "cell_type": "code",
   "execution_count": 8,
   "id": "e0dccbf5",
   "metadata": {
    "execution": {
     "iopub.execute_input": "2023-09-08T02:00:52.022465Z",
     "iopub.status.busy": "2023-09-08T02:00:52.021635Z",
     "iopub.status.idle": "2023-09-08T02:00:55.480404Z",
     "shell.execute_reply": "2023-09-08T02:00:55.479424Z"
    },
    "papermill": {
     "duration": 3.475784,
     "end_time": "2023-09-08T02:00:55.482915",
     "exception": false,
     "start_time": "2023-09-08T02:00:52.007131",
     "status": "completed"
    },
    "tags": []
   },
   "outputs": [],
   "source": [
    "summaries_train['smog_index'] = summaries_train['text'].apply(lambda x : textstat.smog_index(x))\n",
    "summaries_test['smog_index'] = summaries_test['text'].apply(lambda x : textstat.smog_index(x))\n",
    "\n",
    "prompts_train['prompt_text'] = prompts_train['prompt_text'].apply(lambda x : x.lower())\n",
    "prompts_test['prompt_text'] = prompts_test['prompt_text'].apply(lambda x : x.lower())\n",
    "summaries_train['text'] = summaries_train['text'].apply(lambda x : x.lower())\n",
    "summaries_test['text'] = summaries_test['text'].apply(lambda x : x.lower())"
   ]
  },
  {
   "cell_type": "code",
   "execution_count": 9,
   "id": "67042cff",
   "metadata": {
    "execution": {
     "iopub.execute_input": "2023-09-08T02:00:55.509114Z",
     "iopub.status.busy": "2023-09-08T02:00:55.508815Z",
     "iopub.status.idle": "2023-09-08T02:00:55.597163Z",
     "shell.execute_reply": "2023-09-08T02:00:55.596278Z"
    },
    "papermill": {
     "duration": 0.103497,
     "end_time": "2023-09-08T02:00:55.599213",
     "exception": false,
     "start_time": "2023-09-08T02:00:55.495716",
     "status": "completed"
    },
    "tags": []
   },
   "outputs": [],
   "source": [
    "summaries_train['word_counts'] = summaries_train['text'].apply(lambda x : len(set(x.split(' '))))\n",
    "summaries_test['word_counts'] = summaries_test['text'].apply(lambda x : len(set(x.split(' '))))\n",
    "\n",
    "prompts_train['prompt_text'] = prompts_train['prompt_text'].str.replace('\\r','')\n",
    "prompts_train['prompt_text'] = prompts_train['prompt_text'].str.replace('\\n','')"
   ]
  },
  {
   "cell_type": "code",
   "execution_count": 10,
   "id": "b064f990",
   "metadata": {
    "execution": {
     "iopub.execute_input": "2023-09-08T02:00:55.626139Z",
     "iopub.status.busy": "2023-09-08T02:00:55.625862Z",
     "iopub.status.idle": "2023-09-08T02:00:55.666472Z",
     "shell.execute_reply": "2023-09-08T02:00:55.665648Z"
    },
    "papermill": {
     "duration": 0.057057,
     "end_time": "2023-09-08T02:00:55.668555",
     "exception": false,
     "start_time": "2023-09-08T02:00:55.611498",
     "status": "completed"
    },
    "tags": []
   },
   "outputs": [],
   "source": [
    "summaries_train['sentence_counts'] = summaries_train['text'].apply(lambda x : len(set(x.split('.'))))\n",
    "summaries_test['sentence_counts'] = summaries_test['text'].apply(lambda x : len(set(x.split('.'))))\n",
    "summaries_train[\"syntax_count\"] = summaries_train['text'].apply(lambda x: x.count(\",\") + x.count(\"-\") + x.count(\";\") + x.count(\":\"))\n",
    "summaries_test[\"syntax_count\"] = summaries_test['text'].apply(lambda x: x.count(\",\") + x.count(\"-\") + x.count(\";\") + x.count(\":\"))"
   ]
  },
  {
   "cell_type": "code",
   "execution_count": 11,
   "id": "ef6b1863",
   "metadata": {
    "execution": {
     "iopub.execute_input": "2023-09-08T02:00:55.694915Z",
     "iopub.status.busy": "2023-09-08T02:00:55.694068Z",
     "iopub.status.idle": "2023-09-08T02:00:55.714145Z",
     "shell.execute_reply": "2023-09-08T02:00:55.712554Z"
    },
    "papermill": {
     "duration": 0.037165,
     "end_time": "2023-09-08T02:00:55.718129",
     "exception": false,
     "start_time": "2023-09-08T02:00:55.680964",
     "status": "completed"
    },
    "tags": []
   },
   "outputs": [],
   "source": [
    "text_no_stopwords = []\n",
    "stop_words = set(nltk.corpus.stopwords.words('english'))\n",
    "stop_words.update(['.',',','”','“',';',':','?',\"''\",\"``\"])\n",
    "def prompt_no_stopwords(df):\n",
    "    text_no_stopwords = []\n",
    "    for text in df['prompt_text']:\n",
    "        text_no_stopword = [token for token in nltk.word_tokenize(text) if token not in stop_words]\n",
    "        text_no_stopwords.append(text_no_stopword)\n",
    "    df['prompt_no_stop_words'] = text_no_stopwords\n",
    "    return df\n",
    "def summaries_no_stopwords(df):\n",
    "    text_no_stopwords = []\n",
    "    for text in df['text']:\n",
    "        text_no_stopword = [token for token in nltk.word_tokenize(text) if token not in stop_words]\n",
    "        text_no_stopwords.append(text_no_stopword)\n",
    "    df['summaries_no_stop_words'] = text_no_stopwords\n",
    "    return df"
   ]
  },
  {
   "cell_type": "code",
   "execution_count": 12,
   "id": "63822d46",
   "metadata": {
    "execution": {
     "iopub.execute_input": "2023-09-08T02:00:55.763425Z",
     "iopub.status.busy": "2023-09-08T02:00:55.762965Z",
     "iopub.status.idle": "2023-09-08T02:01:02.811617Z",
     "shell.execute_reply": "2023-09-08T02:01:02.810685Z"
    },
    "papermill": {
     "duration": 7.075374,
     "end_time": "2023-09-08T02:01:02.814750",
     "exception": false,
     "start_time": "2023-09-08T02:00:55.739376",
     "status": "completed"
    },
    "tags": []
   },
   "outputs": [],
   "source": [
    "prompts_train = prompt_no_stopwords(prompts_train)\n",
    "prompts_test = prompt_no_stopwords(prompts_test)\n",
    "summaries_train = summaries_no_stopwords(summaries_train)\n",
    "summaries_test = summaries_no_stopwords(summaries_test)"
   ]
  },
  {
   "cell_type": "code",
   "execution_count": 13,
   "id": "484c77f8",
   "metadata": {
    "execution": {
     "iopub.execute_input": "2023-09-08T02:01:02.852120Z",
     "iopub.status.busy": "2023-09-08T02:01:02.851757Z",
     "iopub.status.idle": "2023-09-08T02:01:02.886674Z",
     "shell.execute_reply": "2023-09-08T02:01:02.885870Z"
    },
    "papermill": {
     "duration": 0.055694,
     "end_time": "2023-09-08T02:01:02.889153",
     "exception": false,
     "start_time": "2023-09-08T02:01:02.833459",
     "status": "completed"
    },
    "tags": []
   },
   "outputs": [],
   "source": [
    "summaries_train['word_counts_with_stopword'] = summaries_train['summaries_no_stop_words'].apply(lambda x : len(set(x)))\n",
    "summaries_test['word_counts_with_stopword'] = summaries_test['summaries_no_stop_words'].apply(lambda x : len(set(x)))"
   ]
  },
  {
   "cell_type": "code",
   "execution_count": 14,
   "id": "8603815a",
   "metadata": {
    "execution": {
     "iopub.execute_input": "2023-09-08T02:01:02.925239Z",
     "iopub.status.busy": "2023-09-08T02:01:02.924922Z",
     "iopub.status.idle": "2023-09-08T02:01:11.245951Z",
     "shell.execute_reply": "2023-09-08T02:01:11.244960Z"
    },
    "papermill": {
     "duration": 8.341368,
     "end_time": "2023-09-08T02:01:11.248301",
     "exception": false,
     "start_time": "2023-09-08T02:01:02.906933",
     "status": "completed"
    },
    "tags": []
   },
   "outputs": [],
   "source": [
    "spell = SpellChecker()\n",
    "def summaries_spell_check(df):\n",
    "    total_mis_tokens = []\n",
    "    for text in df['text']:\n",
    "        tokens = nltk.word_tokenize(text)\n",
    "        mis_tokens = [token for token in spell.unknown(tokens) if token.isalpha()]\n",
    "        total_mis_tokens.append(mis_tokens)\n",
    "    df['mis_tokens'] = total_mis_tokens\n",
    "    return df\n",
    "summaries_train = summaries_spell_check(summaries_train)\n",
    "summaries_test = summaries_spell_check(summaries_test)"
   ]
  },
  {
   "cell_type": "code",
   "execution_count": 15,
   "id": "166b739e",
   "metadata": {
    "execution": {
     "iopub.execute_input": "2023-09-08T02:01:11.275916Z",
     "iopub.status.busy": "2023-09-08T02:01:11.274179Z",
     "iopub.status.idle": "2023-09-08T02:01:11.288756Z",
     "shell.execute_reply": "2023-09-08T02:01:11.287734Z"
    },
    "papermill": {
     "duration": 0.030026,
     "end_time": "2023-09-08T02:01:11.290950",
     "exception": false,
     "start_time": "2023-09-08T02:01:11.260924",
     "status": "completed"
    },
    "tags": []
   },
   "outputs": [],
   "source": [
    "summaries_train['counts_mis_token'] = summaries_train['mis_tokens'].apply(lambda x : len(set(x)))\n",
    "summaries_test['counts_mis_token'] = summaries_test['mis_tokens'].apply(lambda x : len(set(x)))"
   ]
  },
  {
   "cell_type": "code",
   "execution_count": 16,
   "id": "850b5d84",
   "metadata": {
    "execution": {
     "iopub.execute_input": "2023-09-08T02:01:11.316875Z",
     "iopub.status.busy": "2023-09-08T02:01:11.316087Z",
     "iopub.status.idle": "2023-09-08T02:01:15.829668Z",
     "shell.execute_reply": "2023-09-08T02:01:15.828681Z"
    },
    "papermill": {
     "duration": 4.529118,
     "end_time": "2023-09-08T02:01:15.832184",
     "exception": false,
     "start_time": "2023-09-08T02:01:11.303066",
     "status": "completed"
    },
    "tags": []
   },
   "outputs": [],
   "source": [
    "counts_duplicate = []\n",
    "own_unique_words = []\n",
    "\n",
    "for i in range(len(summaries_train)):\n",
    "    student_text = summaries_train.iloc[i]['summaries_no_stop_words']\n",
    "    prompt_id = summaries_train.iloc[i]['prompt_id']\n",
    "    splited_prompt = prompts_train[prompts_train['prompt_id'] == prompt_id]['prompt_no_stop_words'].tolist()[0]\n",
    "    count_duplicate = len(set(student_text) & set(splited_prompt))\n",
    "    counts_duplicate.append(count_duplicate)\n",
    "    own_unique_words.append(len(set(student_text) - set(splited_prompt)))\n",
    "summaries_train['counts_duplicate'] = counts_duplicate\n",
    "summaries_train['own_unique_words'] = own_unique_words"
   ]
  },
  {
   "cell_type": "code",
   "execution_count": 17,
   "id": "d5f4eb7b",
   "metadata": {
    "execution": {
     "iopub.execute_input": "2023-09-08T02:01:15.858993Z",
     "iopub.status.busy": "2023-09-08T02:01:15.858627Z",
     "iopub.status.idle": "2023-09-08T02:01:15.871363Z",
     "shell.execute_reply": "2023-09-08T02:01:15.870356Z"
    },
    "papermill": {
     "duration": 0.028968,
     "end_time": "2023-09-08T02:01:15.873780",
     "exception": false,
     "start_time": "2023-09-08T02:01:15.844812",
     "status": "completed"
    },
    "tags": []
   },
   "outputs": [],
   "source": [
    "counts_duplicate = []\n",
    "own_unique_words = []\n",
    "\n",
    "for i in range(len(summaries_test)):\n",
    "    student_text = summaries_test.iloc[i]['summaries_no_stop_words']\n",
    "    prompt_id = summaries_test.iloc[i]['prompt_id']\n",
    "    splited_prompt = prompts_test[prompts_test['prompt_id'] == prompt_id]['prompt_no_stop_words'].tolist()[0]\n",
    "    count_duplicate = len(set(student_text) & set(splited_prompt))\n",
    "    counts_duplicate.append(count_duplicate)\n",
    "    own_unique_words.append(len(set(student_text) - set(splited_prompt)))\n",
    "summaries_test['counts_duplicate'] = counts_duplicate\n",
    "summaries_test['own_unique_words'] = own_unique_words"
   ]
  },
  {
   "cell_type": "code",
   "execution_count": 18,
   "id": "03004bb5",
   "metadata": {
    "execution": {
     "iopub.execute_input": "2023-09-08T02:01:15.900997Z",
     "iopub.status.busy": "2023-09-08T02:01:15.900706Z",
     "iopub.status.idle": "2023-09-08T02:01:15.929266Z",
     "shell.execute_reply": "2023-09-08T02:01:15.928389Z"
    },
    "papermill": {
     "duration": 0.044254,
     "end_time": "2023-09-08T02:01:15.931398",
     "exception": false,
     "start_time": "2023-09-08T02:01:15.887144",
     "status": "completed"
    },
    "tags": []
   },
   "outputs": [],
   "source": [
    "train = summaries_train.merge(prompts_train, how='left', on=\"prompt_id\")\n",
    "test = summaries_test.merge(prompts_test, how='left', on=\"prompt_id\")\n",
    "prompt_dict = {id : index for index,id in enumerate(train['prompt_id'].unique())}\n",
    "train['fold'] = -1\n",
    "train['fold'] = train['prompt_id'].apply(lambda x : prompt_dict[x])"
   ]
  },
  {
   "cell_type": "code",
   "execution_count": 19,
   "id": "0d370d4a",
   "metadata": {
    "execution": {
     "iopub.execute_input": "2023-09-08T02:01:15.957114Z",
     "iopub.status.busy": "2023-09-08T02:01:15.956829Z",
     "iopub.status.idle": "2023-09-08T02:01:15.967971Z",
     "shell.execute_reply": "2023-09-08T02:01:15.967047Z"
    },
    "papermill": {
     "duration": 0.026367,
     "end_time": "2023-09-08T02:01:15.970071",
     "exception": false,
     "start_time": "2023-09-08T02:01:15.943704",
     "status": "completed"
    },
    "tags": []
   },
   "outputs": [],
   "source": [
    "class CustomDataset(torch.utils.data.Dataset):\n",
    "    def __init__(self, df):\n",
    "        self.df = df\n",
    "        self.tokenizer = cfg.tokenizer\n",
    "        self.max_len = cfg.max_len\n",
    "        self.fp = df['prompt_text'].values\n",
    "        self.pq = df['prompt_question'].values\n",
    "        self.title = df['prompt_title'].values\n",
    "        self.text = df['text'].values\n",
    "        self.targets = df[['content','wording']].values\n",
    "        self.id = df['student_id'].values\n",
    "    def __len__(self):\n",
    "        return len(self.df)\n",
    "    \n",
    "    def __getitem__(self , index):\n",
    "        pq   =   self.pq[index]\n",
    "        title = self.title[index]\n",
    "        text =   self.text[index]\n",
    "        fp = self.fp[index]\n",
    "        full_text = pq + self.tokenizer.sep_token + text\n",
    "        \n",
    "        inputs = self.tokenizer.encode_plus(\n",
    "                        full_text,\n",
    "                        truncation=True,\n",
    "                        add_special_tokens=True,\n",
    "                        max_length=self.max_len,\n",
    "                        padding='max_length'\n",
    "                    )\n",
    "        \n",
    "        ids = inputs['input_ids']\n",
    "        mask = inputs['attention_mask']\n",
    "        target = self.targets[index]\n",
    "        \n",
    "   \n",
    "        return {\n",
    "            'input_ids': torch.tensor(ids, dtype=torch.long),\n",
    "            'attention_mask': torch.tensor(mask, dtype=torch.long),\n",
    "            \n",
    "        } , torch.tensor(target, dtype=torch.float), self.id[index]\n",
    "\n",
    "def collate(inputs):\n",
    "    mask_len = int(inputs[\"attention_mask\"].sum(axis=1).max())\n",
    "    for k, v in inputs.items():\n",
    "        inputs[k] = inputs[k][:, :mask_len]\n",
    "    return inputs"
   ]
  },
  {
   "cell_type": "code",
   "execution_count": 20,
   "id": "c4614c9d",
   "metadata": {
    "execution": {
     "iopub.execute_input": "2023-09-08T02:01:15.995202Z",
     "iopub.status.busy": "2023-09-08T02:01:15.994923Z",
     "iopub.status.idle": "2023-09-08T02:01:16.003633Z",
     "shell.execute_reply": "2023-09-08T02:01:16.002772Z"
    },
    "papermill": {
     "duration": 0.023708,
     "end_time": "2023-09-08T02:01:16.005786",
     "exception": false,
     "start_time": "2023-09-08T02:01:15.982078",
     "status": "completed"
    },
    "tags": []
   },
   "outputs": [],
   "source": [
    "class TestDataset(torch.utils.data.Dataset):\n",
    "    def __init__(self, df):\n",
    "        self.df = df\n",
    "        self.tokenizer = cfg.tokenizer\n",
    "        self.max_len = cfg.max_len\n",
    "        self.fp = df['prompt_text'].values\n",
    "        self.pq = df['prompt_question'].values\n",
    "        self.title = df['prompt_title'].values\n",
    "        self.text = df['text'].values\n",
    "        \n",
    "    def __len__(self):\n",
    "        return len(self.df)\n",
    "    \n",
    "    def __getitem__(self , index):\n",
    "        pq   =   self.pq[index]\n",
    "        title = self.title[index]\n",
    "        text =   self.text[index]\n",
    "        fp = self.fp[index]\n",
    "        full_text = pq + self.tokenizer.sep_token + text\n",
    "        \n",
    "        inputs = self.tokenizer.encode_plus(\n",
    "                        full_text,\n",
    "                        truncation=True,\n",
    "                        add_special_tokens=True,\n",
    "                        max_length=self.max_len,\n",
    "                        padding='max_length'\n",
    "                    )\n",
    "        \n",
    "        ids = inputs['input_ids']\n",
    "        mask = inputs['attention_mask']\n",
    "        \n",
    "   \n",
    "        return {\n",
    "            'input_ids': torch.tensor(ids, dtype=torch.long),\n",
    "            'attention_mask': torch.tensor(mask, dtype=torch.long),\n",
    "        }"
   ]
  },
  {
   "cell_type": "code",
   "execution_count": 21,
   "id": "05c55917",
   "metadata": {
    "execution": {
     "iopub.execute_input": "2023-09-08T02:01:16.031127Z",
     "iopub.status.busy": "2023-09-08T02:01:16.030850Z",
     "iopub.status.idle": "2023-09-08T02:01:16.039648Z",
     "shell.execute_reply": "2023-09-08T02:01:16.038647Z"
    },
    "papermill": {
     "duration": 0.024003,
     "end_time": "2023-09-08T02:01:16.041758",
     "exception": false,
     "start_time": "2023-09-08T02:01:16.017755",
     "status": "completed"
    },
    "tags": []
   },
   "outputs": [],
   "source": [
    "def validation(model, val_loader):\n",
    "    model.eval()\n",
    "    val_loss = []\n",
    "    pred_list = []\n",
    "    label_list = []\n",
    "    id_list = []\n",
    "    with torch.no_grad():\n",
    "        for batch, labels, s_id in tqdm(iter(val_loader)):\n",
    "            batch = {i: v.to(\"cuda\") for i, v in batch.items()}\n",
    "            labels = labels.cuda()\n",
    "\n",
    "            output = model(**batch,labels = labels)\n",
    "            pred = output.logits\n",
    "            loss = output.loss\n",
    "            \n",
    "            val_loss.append(loss.item())\n",
    "            pred_list += pred.detach().cpu().tolist()\n",
    "            label_list += labels.detach().cpu().tolist()\n",
    "            id_list += s_id\n",
    "        _val_loss = np.mean(val_loss)\n",
    "        pred_list_re = np.array(pred_list).reshape(-1,2)[:,]\n",
    "        label_list_re = np.array(label_list).reshape(-1,2)[:,]\n",
    "        scores = compute_mcrmse(pred_list_re, label_list_re)\n",
    "\n",
    "    return _val_loss, scores, pred_list_re, label_list_re, id_list"
   ]
  },
  {
   "cell_type": "code",
   "execution_count": 22,
   "id": "cb812016",
   "metadata": {
    "execution": {
     "iopub.execute_input": "2023-09-08T02:01:16.066980Z",
     "iopub.status.busy": "2023-09-08T02:01:16.066700Z",
     "iopub.status.idle": "2023-09-08T02:01:16.074129Z",
     "shell.execute_reply": "2023-09-08T02:01:16.073276Z"
    },
    "papermill": {
     "duration": 0.022362,
     "end_time": "2023-09-08T02:01:16.076099",
     "exception": false,
     "start_time": "2023-09-08T02:01:16.053737",
     "status": "completed"
    },
    "tags": []
   },
   "outputs": [],
   "source": [
    "def predict(model, test_loader):\n",
    "    model.eval()\n",
    "    pred_list = []\n",
    "    with torch.no_grad():\n",
    "        for batch in tqdm(iter(test_loader)):\n",
    "            batch = {i: v.to(\"cuda\") for i, v in batch.items()}\n",
    "            output = model(**batch)\n",
    "            pred = output.logits\n",
    "            \n",
    "            pred_list += pred.detach().cpu().tolist()\n",
    "        pred_list_re = np.array(pred_list).reshape(-1,2)[:,]\n",
    "\n",
    "    return pred_list_re,pred_list"
   ]
  },
  {
   "cell_type": "code",
   "execution_count": 23,
   "id": "93c957be",
   "metadata": {
    "execution": {
     "iopub.execute_input": "2023-09-08T02:01:16.102064Z",
     "iopub.status.busy": "2023-09-08T02:01:16.101256Z",
     "iopub.status.idle": "2023-09-08T02:01:16.108007Z",
     "shell.execute_reply": "2023-09-08T02:01:16.107090Z"
    },
    "papermill": {
     "duration": 0.02178,
     "end_time": "2023-09-08T02:01:16.110106",
     "exception": false,
     "start_time": "2023-09-08T02:01:16.088326",
     "status": "completed"
    },
    "tags": []
   },
   "outputs": [],
   "source": [
    "def data_fold(df, n_fold):\n",
    "    dftrain = df[df['fold']!= n_fold]\n",
    "    dfvalid = df[df['fold']== n_fold]\n",
    "    \n",
    "    train_dataset = CustomDataset(dftrain)\n",
    "    valid_dataset = CustomDataset(dfvalid)\n",
    "    \n",
    "    train_loader = torch.utils.data.DataLoader(train_dataset, batch_size=cfg.batch_size, num_workers=2, shuffle=True, pin_memory=True) \n",
    "    valid_loader = torch.utils.data.DataLoader(valid_dataset, batch_size=cfg.batch_size, num_workers=2, shuffle=False, pin_memory=True) \n",
    "    \n",
    "    return train_loader , valid_loader"
   ]
  },
  {
   "cell_type": "code",
   "execution_count": 24,
   "id": "c5c85f5f",
   "metadata": {
    "execution": {
     "iopub.execute_input": "2023-09-08T02:01:16.138487Z",
     "iopub.status.busy": "2023-09-08T02:01:16.137516Z",
     "iopub.status.idle": "2023-09-08T02:01:16.144830Z",
     "shell.execute_reply": "2023-09-08T02:01:16.143946Z"
    },
    "papermill": {
     "duration": 0.024579,
     "end_time": "2023-09-08T02:01:16.146829",
     "exception": false,
     "start_time": "2023-09-08T02:01:16.122250",
     "status": "completed"
    },
    "tags": []
   },
   "outputs": [],
   "source": [
    "def compute_metrics(eval_pred):\n",
    "    predictions, labels = eval_pred\n",
    "    rmse = mean_squared_error(labels, predictions, squared=False)\n",
    "    return {\"rmse\": rmse}\n",
    "\n",
    "def compute_mcrmse(preds, labels):\n",
    "    col_rmse = np.sqrt(np.mean((preds - labels) ** 2, axis=0))\n",
    "    mcrmse = np.mean(col_rmse)\n",
    "\n",
    "    return {\n",
    "        \"content_rmse\": col_rmse[0],\n",
    "        \"wording_rmse\": col_rmse[1],\n",
    "        \"mcrmse\": mcrmse,\n",
    "    }\n",
    "\n",
    "def compt_score(content_true, content_pred, wording_true, wording_pred):\n",
    "    content_score = mean_squared_error(content_true, content_pred)**(1/2)\n",
    "    wording_score = mean_squared_error(wording_true, wording_pred)**(1/2)\n",
    "    \n",
    "    return (content_score + wording_score)/2"
   ]
  },
  {
   "cell_type": "code",
   "execution_count": 25,
   "id": "4cacf539",
   "metadata": {
    "execution": {
     "iopub.execute_input": "2023-09-08T02:01:16.172815Z",
     "iopub.status.busy": "2023-09-08T02:01:16.172002Z",
     "iopub.status.idle": "2023-09-08T02:01:16.177245Z",
     "shell.execute_reply": "2023-09-08T02:01:16.176375Z"
    },
    "papermill": {
     "duration": 0.020239,
     "end_time": "2023-09-08T02:01:16.179354",
     "exception": false,
     "start_time": "2023-09-08T02:01:16.159115",
     "status": "completed"
    },
    "tags": []
   },
   "outputs": [],
   "source": [
    "# total_pred = []\n",
    "# total_id = []\n",
    "# for n_fold in range(0,4):\n",
    "#     print('******** fold' , n_fold , '********')\n",
    "#     model_config = AutoConfig.from_pretrained(cfg.model_name)\n",
    "#     model_config.update({\n",
    "#             \"hidden_dropout_prob\": cfg.hidden_dropout_prob,\n",
    "#             \"attention_probs_dropout_prob\": cfg.attention_probs_dropout_prob,\n",
    "#             \"num_labels\": 2,\n",
    "#             \"problem_type\": \"regression\"\n",
    "#         })\n",
    "#     model = AutoModelForSequenceClassification.from_pretrained(cfg.model_name,config = model_config)\n",
    "#     model.load_state_dict(torch.load(f\"/kaggle/input/deberta-v3-base-fold/deberta-v3-base-Fold_{n_fold}.pth\", map_location=torch.device('cpu')))\n",
    "#     model.cuda()\n",
    "#     train_loader , valid_loader = data_fold(train, n_fold)\n",
    "#     _val_loss, scores, valid_pred, valid_label, id_list = validation(model, valid_loader)\n",
    "#     total_pred += valid_pred.tolist()\n",
    "#     total_id += id_list\n",
    "#     del model, model_config\n",
    "\n",
    "# train_pred_df = pd.DataFrame(data = zip(total_id, np.array(total_pred)[:,0].tolist(), np.array(total_pred)[:,1].tolist()) ,columns = ['student_id', 'content_pred', 'wording_pred'])\n",
    "# train = train.merge(train_pred_df, how = 'left', on = 'student_id')"
   ]
  },
  {
   "cell_type": "code",
   "execution_count": 26,
   "id": "075422e1",
   "metadata": {
    "execution": {
     "iopub.execute_input": "2023-09-08T02:01:16.204879Z",
     "iopub.status.busy": "2023-09-08T02:01:16.204150Z",
     "iopub.status.idle": "2023-09-08T02:01:16.209996Z",
     "shell.execute_reply": "2023-09-08T02:01:16.209138Z"
    },
    "papermill": {
     "duration": 0.020679,
     "end_time": "2023-09-08T02:01:16.211986",
     "exception": false,
     "start_time": "2023-09-08T02:01:16.191307",
     "status": "completed"
    },
    "tags": []
   },
   "outputs": [],
   "source": [
    "test_dataset = TestDataset(test)\n",
    "test_loader = torch.utils.data.DataLoader(test_dataset, batch_size = cfg.batch_size, num_workers=0, shuffle=False, pin_memory = True)"
   ]
  },
  {
   "cell_type": "code",
   "execution_count": 27,
   "id": "3ab40e8c",
   "metadata": {
    "execution": {
     "iopub.execute_input": "2023-09-08T02:01:16.238891Z",
     "iopub.status.busy": "2023-09-08T02:01:16.238239Z",
     "iopub.status.idle": "2023-09-08T02:02:10.096924Z",
     "shell.execute_reply": "2023-09-08T02:02:10.095884Z"
    },
    "papermill": {
     "duration": 53.875034,
     "end_time": "2023-09-08T02:02:10.099005",
     "exception": false,
     "start_time": "2023-09-08T02:01:16.223971",
     "status": "completed"
    },
    "tags": []
   },
   "outputs": [
    {
     "name": "stdout",
     "output_type": "stream",
     "text": [
      "******** fold 0 ********\n"
     ]
    },
    {
     "name": "stderr",
     "output_type": "stream",
     "text": [
      "Some weights of the model checkpoint at /kaggle/input/deberta-v3-base/deberta-v3-base were not used when initializing DebertaV2ForSequenceClassification: ['lm_predictions.lm_head.dense.weight', 'mask_predictions.dense.bias', 'mask_predictions.classifer.weight', 'mask_predictions.dense.weight', 'mask_predictions.classifer.bias', 'mask_predictions.LayerNorm.weight', 'lm_predictions.lm_head.LayerNorm.bias', 'lm_predictions.lm_head.LayerNorm.weight', 'mask_predictions.LayerNorm.bias', 'lm_predictions.lm_head.bias', 'lm_predictions.lm_head.dense.bias']\n",
      "- This IS expected if you are initializing DebertaV2ForSequenceClassification from the checkpoint of a model trained on another task or with another architecture (e.g. initializing a BertForSequenceClassification model from a BertForPreTraining model).\n",
      "- This IS NOT expected if you are initializing DebertaV2ForSequenceClassification from the checkpoint of a model that you expect to be exactly identical (initializing a BertForSequenceClassification model from a BertForSequenceClassification model).\n",
      "Some weights of DebertaV2ForSequenceClassification were not initialized from the model checkpoint at /kaggle/input/deberta-v3-base/deberta-v3-base and are newly initialized: ['pooler.dense.weight', 'pooler.dense.bias', 'classifier.bias', 'classifier.weight']\n",
      "You should probably TRAIN this model on a down-stream task to be able to use it for predictions and inference.\n"
     ]
    },
    {
     "data": {
      "application/vnd.jupyter.widget-view+json": {
       "model_id": "d168850bf7584155adfde27ab915cd22",
       "version_major": 2,
       "version_minor": 0
      },
      "text/plain": [
       "  0%|          | 0/1 [00:00<?, ?it/s]"
      ]
     },
     "metadata": {},
     "output_type": "display_data"
    },
    {
     "name": "stdout",
     "output_type": "stream",
     "text": [
      "******** fold 1 ********\n"
     ]
    },
    {
     "name": "stderr",
     "output_type": "stream",
     "text": [
      "Some weights of the model checkpoint at /kaggle/input/deberta-v3-base/deberta-v3-base were not used when initializing DebertaV2ForSequenceClassification: ['lm_predictions.lm_head.dense.weight', 'mask_predictions.dense.bias', 'mask_predictions.classifer.weight', 'mask_predictions.dense.weight', 'mask_predictions.classifer.bias', 'mask_predictions.LayerNorm.weight', 'lm_predictions.lm_head.LayerNorm.bias', 'lm_predictions.lm_head.LayerNorm.weight', 'mask_predictions.LayerNorm.bias', 'lm_predictions.lm_head.bias', 'lm_predictions.lm_head.dense.bias']\n",
      "- This IS expected if you are initializing DebertaV2ForSequenceClassification from the checkpoint of a model trained on another task or with another architecture (e.g. initializing a BertForSequenceClassification model from a BertForPreTraining model).\n",
      "- This IS NOT expected if you are initializing DebertaV2ForSequenceClassification from the checkpoint of a model that you expect to be exactly identical (initializing a BertForSequenceClassification model from a BertForSequenceClassification model).\n",
      "Some weights of DebertaV2ForSequenceClassification were not initialized from the model checkpoint at /kaggle/input/deberta-v3-base/deberta-v3-base and are newly initialized: ['pooler.dense.weight', 'pooler.dense.bias', 'classifier.bias', 'classifier.weight']\n",
      "You should probably TRAIN this model on a down-stream task to be able to use it for predictions and inference.\n"
     ]
    },
    {
     "data": {
      "application/vnd.jupyter.widget-view+json": {
       "model_id": "4f67034999c248b4ab32d22f2383cfc6",
       "version_major": 2,
       "version_minor": 0
      },
      "text/plain": [
       "  0%|          | 0/1 [00:00<?, ?it/s]"
      ]
     },
     "metadata": {},
     "output_type": "display_data"
    },
    {
     "name": "stdout",
     "output_type": "stream",
     "text": [
      "******** fold 2 ********\n"
     ]
    },
    {
     "name": "stderr",
     "output_type": "stream",
     "text": [
      "Some weights of the model checkpoint at /kaggle/input/deberta-v3-base/deberta-v3-base were not used when initializing DebertaV2ForSequenceClassification: ['lm_predictions.lm_head.dense.weight', 'mask_predictions.dense.bias', 'mask_predictions.classifer.weight', 'mask_predictions.dense.weight', 'mask_predictions.classifer.bias', 'mask_predictions.LayerNorm.weight', 'lm_predictions.lm_head.LayerNorm.bias', 'lm_predictions.lm_head.LayerNorm.weight', 'mask_predictions.LayerNorm.bias', 'lm_predictions.lm_head.bias', 'lm_predictions.lm_head.dense.bias']\n",
      "- This IS expected if you are initializing DebertaV2ForSequenceClassification from the checkpoint of a model trained on another task or with another architecture (e.g. initializing a BertForSequenceClassification model from a BertForPreTraining model).\n",
      "- This IS NOT expected if you are initializing DebertaV2ForSequenceClassification from the checkpoint of a model that you expect to be exactly identical (initializing a BertForSequenceClassification model from a BertForSequenceClassification model).\n",
      "Some weights of DebertaV2ForSequenceClassification were not initialized from the model checkpoint at /kaggle/input/deberta-v3-base/deberta-v3-base and are newly initialized: ['pooler.dense.weight', 'pooler.dense.bias', 'classifier.bias', 'classifier.weight']\n",
      "You should probably TRAIN this model on a down-stream task to be able to use it for predictions and inference.\n"
     ]
    },
    {
     "data": {
      "application/vnd.jupyter.widget-view+json": {
       "model_id": "f2301108e286481da9bd214ad142ebb0",
       "version_major": 2,
       "version_minor": 0
      },
      "text/plain": [
       "  0%|          | 0/1 [00:00<?, ?it/s]"
      ]
     },
     "metadata": {},
     "output_type": "display_data"
    },
    {
     "name": "stdout",
     "output_type": "stream",
     "text": [
      "******** fold 3 ********\n"
     ]
    },
    {
     "name": "stderr",
     "output_type": "stream",
     "text": [
      "Some weights of the model checkpoint at /kaggle/input/deberta-v3-base/deberta-v3-base were not used when initializing DebertaV2ForSequenceClassification: ['lm_predictions.lm_head.dense.weight', 'mask_predictions.dense.bias', 'mask_predictions.classifer.weight', 'mask_predictions.dense.weight', 'mask_predictions.classifer.bias', 'mask_predictions.LayerNorm.weight', 'lm_predictions.lm_head.LayerNorm.bias', 'lm_predictions.lm_head.LayerNorm.weight', 'mask_predictions.LayerNorm.bias', 'lm_predictions.lm_head.bias', 'lm_predictions.lm_head.dense.bias']\n",
      "- This IS expected if you are initializing DebertaV2ForSequenceClassification from the checkpoint of a model trained on another task or with another architecture (e.g. initializing a BertForSequenceClassification model from a BertForPreTraining model).\n",
      "- This IS NOT expected if you are initializing DebertaV2ForSequenceClassification from the checkpoint of a model that you expect to be exactly identical (initializing a BertForSequenceClassification model from a BertForSequenceClassification model).\n",
      "Some weights of DebertaV2ForSequenceClassification were not initialized from the model checkpoint at /kaggle/input/deberta-v3-base/deberta-v3-base and are newly initialized: ['pooler.dense.weight', 'pooler.dense.bias', 'classifier.bias', 'classifier.weight']\n",
      "You should probably TRAIN this model on a down-stream task to be able to use it for predictions and inference.\n"
     ]
    },
    {
     "data": {
      "application/vnd.jupyter.widget-view+json": {
       "model_id": "924f8389aa3b49a0a6143123f7819aa9",
       "version_major": 2,
       "version_minor": 0
      },
      "text/plain": [
       "  0%|          | 0/1 [00:00<?, ?it/s]"
      ]
     },
     "metadata": {},
     "output_type": "display_data"
    }
   ],
   "source": [
    "total_content_pred = np.zeros(shape = (len(test)))\n",
    "total_wording_pred = np.zeros(shape = (len(test)))\n",
    "for n_fold in range(0,4):\n",
    "    print('******** fold' , n_fold , '********')\n",
    "    model_config = AutoConfig.from_pretrained(cfg.model_name)\n",
    "    model_config.update({\n",
    "            \"hidden_dropout_prob\": cfg.hidden_dropout_prob,\n",
    "            \"attention_probs_dropout_prob\": cfg.attention_probs_dropout_prob,\n",
    "            \"num_labels\": 2,\n",
    "            \"problem_type\": \"regression\"\n",
    "        })\n",
    "    model = AutoModelForSequenceClassification.from_pretrained(cfg.model_name,config = model_config)\n",
    "    model.load_state_dict(torch.load(f\"/kaggle/input/deberta-v3-base-fold/deberta-v3-base-Fold_{n_fold}.pth\", map_location=torch.device('cpu')))\n",
    "    model.cuda()\n",
    "    pred_list_re,pred_list = predict(model, test_loader)\n",
    "    total_content_pred += pred_list_re[:, 0]\n",
    "    total_wording_pred += pred_list_re[:, 1]\n",
    "\n",
    "    del model, model_config"
   ]
  },
  {
   "cell_type": "code",
   "execution_count": 28,
   "id": "25649c36",
   "metadata": {
    "execution": {
     "iopub.execute_input": "2023-09-08T02:02:10.127980Z",
     "iopub.status.busy": "2023-09-08T02:02:10.127679Z",
     "iopub.status.idle": "2023-09-08T02:02:10.133495Z",
     "shell.execute_reply": "2023-09-08T02:02:10.132552Z"
    },
    "papermill": {
     "duration": 0.022429,
     "end_time": "2023-09-08T02:02:10.135534",
     "exception": false,
     "start_time": "2023-09-08T02:02:10.113105",
     "status": "completed"
    },
    "tags": []
   },
   "outputs": [],
   "source": [
    "test['content_pred'] = total_content_pred/4\n",
    "test['wording_pred'] = total_wording_pred/4"
   ]
  },
  {
   "cell_type": "code",
   "execution_count": 29,
   "id": "4ac852d9",
   "metadata": {
    "execution": {
     "iopub.execute_input": "2023-09-08T02:02:10.164166Z",
     "iopub.status.busy": "2023-09-08T02:02:10.163903Z",
     "iopub.status.idle": "2023-09-08T02:02:10.167920Z",
     "shell.execute_reply": "2023-09-08T02:02:10.167011Z"
    },
    "papermill": {
     "duration": 0.020434,
     "end_time": "2023-09-08T02:02:10.169937",
     "exception": false,
     "start_time": "2023-09-08T02:02:10.149503",
     "status": "completed"
    },
    "tags": []
   },
   "outputs": [],
   "source": [
    "# from itertools import combinations\n",
    "# all_columns = ['smog_index', 'word_counts', 'sentence_counts', 'syntax_count', 'word_counts_with_stopword', 'counts_mis_token', 'counts_duplicate', 'content_pred', 'wording_pred']\n",
    "# column_list = []\n",
    "# for n in range(4, len(all_columns) + 1):\n",
    "#     for column in combinations(all_columns, n):\n",
    "#         column_list.append(list(column))"
   ]
  },
  {
   "cell_type": "code",
   "execution_count": 30,
   "id": "e408b856",
   "metadata": {
    "execution": {
     "iopub.execute_input": "2023-09-08T02:02:10.197910Z",
     "iopub.status.busy": "2023-09-08T02:02:10.197626Z",
     "iopub.status.idle": "2023-09-08T02:02:10.202094Z",
     "shell.execute_reply": "2023-09-08T02:02:10.201105Z"
    },
    "papermill": {
     "duration": 0.020929,
     "end_time": "2023-09-08T02:02:10.204366",
     "exception": false,
     "start_time": "2023-09-08T02:02:10.183437",
     "status": "completed"
    },
    "tags": []
   },
   "outputs": [],
   "source": [
    "# # lgbm\n",
    "# # content\n",
    "# best_score = 1\n",
    "# best_column = []\n",
    "# for column in tqdm(column_list):\n",
    "#     X = train[column]\n",
    "#     y = train['content']\n",
    "#     test_x = test[column]\n",
    "#     train_x, valid_x, train_y, valid_y = train_test_split(X, y, test_size = 0.1, random_state=42, shuffle= False)\n",
    "    \n",
    "#     model = lightgbm.LGBMRegressor(random_state=42, max_depth=5,learning_rate=0.05)\n",
    "#     model.fit(train_x,train_y, eval_set = (valid_x, valid_y), eval_metric = 'rmse', verbose=-1)\n",
    "\n",
    "#     score = model.best_score_['valid_0']['rmse']\n",
    "#     if best_score > score:\n",
    "#         best_score = score\n",
    "#         best_column = column\n",
    "#         lgbm_content_pred = model.predict(test_x)\n",
    "# print(best_score, best_column)"
   ]
  },
  {
   "cell_type": "code",
   "execution_count": 31,
   "id": "1df6af47",
   "metadata": {
    "execution": {
     "iopub.execute_input": "2023-09-08T02:02:10.232449Z",
     "iopub.status.busy": "2023-09-08T02:02:10.232190Z",
     "iopub.status.idle": "2023-09-08T02:02:10.236340Z",
     "shell.execute_reply": "2023-09-08T02:02:10.235482Z"
    },
    "papermill": {
     "duration": 0.020369,
     "end_time": "2023-09-08T02:02:10.238366",
     "exception": false,
     "start_time": "2023-09-08T02:02:10.217997",
     "status": "completed"
    },
    "tags": []
   },
   "outputs": [],
   "source": [
    "# # lgbm\n",
    "# # wording\n",
    "# best_score = 1\n",
    "# best_column = []\n",
    "# for column in tqdm(column_list):\n",
    "#     X = train[column]\n",
    "#     y = train['wording']\n",
    "#     test_x = test[column]\n",
    "\n",
    "#     train_x, valid_x, train_y, valid_y = train_test_split(X, y, test_size = 0.1, random_state=42, shuffle= False)\n",
    "    \n",
    "#     model = lightgbm.LGBMRegressor(random_state=42, max_depth=5,learning_rate=0.05)\n",
    "#     model.fit(train_x,train_y, eval_set = (valid_x, valid_y), eval_metric = 'rmse', verbose=-1)\n",
    "\n",
    "#     score = model.best_score_['valid_0']['rmse']\n",
    "#     if best_score > score:\n",
    "#         best_score = score\n",
    "#         best_column = column\n",
    "#         lgbm_wording_pred = model.predict(test_x)\n",
    "# print(best_score, best_column)"
   ]
  },
  {
   "cell_type": "code",
   "execution_count": 32,
   "id": "6a15f85a",
   "metadata": {
    "execution": {
     "iopub.execute_input": "2023-09-08T02:02:10.266293Z",
     "iopub.status.busy": "2023-09-08T02:02:10.266041Z",
     "iopub.status.idle": "2023-09-08T02:02:10.270585Z",
     "shell.execute_reply": "2023-09-08T02:02:10.269604Z"
    },
    "papermill": {
     "duration": 0.020985,
     "end_time": "2023-09-08T02:02:10.272833",
     "exception": false,
     "start_time": "2023-09-08T02:02:10.251848",
     "status": "completed"
    },
    "tags": []
   },
   "outputs": [],
   "source": [
    "# # Catboost\n",
    "# # content\n",
    "# best_score = 1\n",
    "# best_column = []\n",
    "# for column in tqdm(column_list):\n",
    "#     X = train[column]\n",
    "#     y = train['content']\n",
    "#     test_x = test[column]\n",
    "#     train_x, valid_x, train_y, valid_y = train_test_split(X, y, test_size = 0.1, random_state=42, shuffle= False)\n",
    "    \n",
    "#     model = catboost.CatBoostRegressor(random_state=42, max_depth=5,learning_rate=0.05,objective = 'RMSE',verbose=False)\n",
    "#     model.fit(train_x,train_y,eval_set = (valid_x,valid_y))\n",
    "#     score = model.best_score_['validation']['RMSE']\n",
    "#     if best_score > score:\n",
    "#         best_score = score\n",
    "#         best_column = column\n",
    "#         cat_content_pred = model.predict(test_x)\n",
    "# print(best_score, best_column)"
   ]
  },
  {
   "cell_type": "code",
   "execution_count": 33,
   "id": "ec3f8ad0",
   "metadata": {
    "execution": {
     "iopub.execute_input": "2023-09-08T02:02:10.301126Z",
     "iopub.status.busy": "2023-09-08T02:02:10.300873Z",
     "iopub.status.idle": "2023-09-08T02:02:10.306474Z",
     "shell.execute_reply": "2023-09-08T02:02:10.305622Z"
    },
    "papermill": {
     "duration": 0.021892,
     "end_time": "2023-09-08T02:02:10.308458",
     "exception": false,
     "start_time": "2023-09-08T02:02:10.286566",
     "status": "completed"
    },
    "tags": []
   },
   "outputs": [],
   "source": [
    "# # Catboost\n",
    "# # wording\n",
    "# best_score = 1\n",
    "# best_column = []\n",
    "# for column in tqdm(column_list):\n",
    "#     X = train[column]\n",
    "#     y = train['wording']\n",
    "#     test_x = test[column]\n",
    "#     train_x, valid_x, train_y, valid_y = train_test_split(X, y, test_size = 0.1, random_state=42, shuffle= False)\n",
    "    \n",
    "#     model = catboost.CatBoostRegressor(random_state=42, max_depth=5,learning_rate=0.05,objective = 'RMSE',verbose=False)\n",
    "#     model.fit(train_x,train_y,eval_set = (valid_x,valid_y))\n",
    "#     score = model.best_score_['validation']['RMSE']\n",
    "#     if best_score > score:\n",
    "#         best_score = score\n",
    "#         best_column = column\n",
    "#         cat_wording_pred = model.predict(test_x)\n",
    "# print(best_score, best_column)"
   ]
  },
  {
   "cell_type": "code",
   "execution_count": 34,
   "id": "a49b40a4",
   "metadata": {
    "execution": {
     "iopub.execute_input": "2023-09-08T02:02:10.336454Z",
     "iopub.status.busy": "2023-09-08T02:02:10.336192Z",
     "iopub.status.idle": "2023-09-08T02:02:10.344510Z",
     "shell.execute_reply": "2023-09-08T02:02:10.343708Z"
    },
    "papermill": {
     "duration": 0.024508,
     "end_time": "2023-09-08T02:02:10.346485",
     "exception": false,
     "start_time": "2023-09-08T02:02:10.321977",
     "status": "completed"
    },
    "tags": []
   },
   "outputs": [],
   "source": [
    "sub = pd.read_csv('/kaggle/input/commonlit-evaluate-student-summaries/sample_submission.csv')\n",
    "sub['content'] = total_content_pred/4\n",
    "sub['wording'] = total_wording_pred/4"
   ]
  },
  {
   "cell_type": "code",
   "execution_count": 35,
   "id": "970dc04e",
   "metadata": {
    "execution": {
     "iopub.execute_input": "2023-09-08T02:02:10.375164Z",
     "iopub.status.busy": "2023-09-08T02:02:10.374547Z",
     "iopub.status.idle": "2023-09-08T02:02:10.381280Z",
     "shell.execute_reply": "2023-09-08T02:02:10.380450Z"
    },
    "papermill": {
     "duration": 0.023427,
     "end_time": "2023-09-08T02:02:10.383511",
     "exception": false,
     "start_time": "2023-09-08T02:02:10.360084",
     "status": "completed"
    },
    "tags": []
   },
   "outputs": [],
   "source": [
    "sub.to_csv('submission.csv',index=False)"
   ]
  },
  {
   "cell_type": "code",
   "execution_count": null,
   "id": "1d2f0109",
   "metadata": {
    "papermill": {
     "duration": 0.013236,
     "end_time": "2023-09-08T02:02:10.412226",
     "exception": false,
     "start_time": "2023-09-08T02:02:10.398990",
     "status": "completed"
    },
    "tags": []
   },
   "outputs": [],
   "source": []
  }
 ],
 "kernelspec": {
  "display_name": "Python 3",
  "language": "python",
  "name": "python3"
 },
 "language_info": {
  "codemirror_mode": {
   "name": "ipython",
   "version": 3
  },
  "file_extension": ".py",
  "mimetype": "text/x-python",
  "name": "python",
  "nbconvert_exporter": "python",
  "pygments_lexer": "ipython3",
  "version": "3.6.4"
 },
 "metadata": {
  "kernelspec": {
   "display_name": "Python 3",
   "language": "python",
   "name": "python3"
  },
  "language_info": {
   "codemirror_mode": {
    "name": "ipython",
    "version": 3
   },
   "file_extension": ".py",
   "mimetype": "text/x-python",
   "name": "python",
   "nbconvert_exporter": "python",
   "pygments_lexer": "ipython3",
   "version": "3.10.12"
  },
  "papermill": {
   "default_parameters": {},
   "duration": 204.901494,
   "end_time": "2023-09-08T02:02:13.623411",
   "environment_variables": {},
   "exception": null,
   "input_path": "__notebook__.ipynb",
   "output_path": "__notebook__.ipynb",
   "parameters": {},
   "start_time": "2023-09-08T01:58:48.721917",
   "version": "2.4.0"
  },
  "widgets": {
   "application/vnd.jupyter.widget-state+json": {
    "state": {
     "046b26c1ea1f4a758bec2f0101b83bfb": {
      "model_module": "@jupyter-widgets/controls",
      "model_module_version": "1.5.0",
      "model_name": "HTMLModel",
      "state": {
       "_dom_classes": [],
       "_model_module": "@jupyter-widgets/controls",
       "_model_module_version": "1.5.0",
       "_model_name": "HTMLModel",
       "_view_count": null,
       "_view_module": "@jupyter-widgets/controls",
       "_view_module_version": "1.5.0",
       "_view_name": "HTMLView",
       "description": "",
       "description_tooltip": null,
       "layout": "IPY_MODEL_a5298a12852d42358192929d424506b8",
       "placeholder": "​",
       "style": "IPY_MODEL_6eb05556ea6f47a59dd7576e5caa5f3a",
       "value": "100%"
      }
     },
     "11533b4e8f544a66a2d281dee7d22914": {
      "model_module": "@jupyter-widgets/controls",
      "model_module_version": "1.5.0",
      "model_name": "DescriptionStyleModel",
      "state": {
       "_model_module": "@jupyter-widgets/controls",
       "_model_module_version": "1.5.0",
       "_model_name": "DescriptionStyleModel",
       "_view_count": null,
       "_view_module": "@jupyter-widgets/base",
       "_view_module_version": "1.2.0",
       "_view_name": "StyleView",
       "description_width": ""
      }
     },
     "14e17014ab99476b90697e80853f60fd": {
      "model_module": "@jupyter-widgets/controls",
      "model_module_version": "1.5.0",
      "model_name": "ProgressStyleModel",
      "state": {
       "_model_module": "@jupyter-widgets/controls",
       "_model_module_version": "1.5.0",
       "_model_name": "ProgressStyleModel",
       "_view_count": null,
       "_view_module": "@jupyter-widgets/base",
       "_view_module_version": "1.2.0",
       "_view_name": "StyleView",
       "bar_color": null,
       "description_width": ""
      }
     },
     "18235ae161604c0293fd96d6a29ecd0a": {
      "model_module": "@jupyter-widgets/controls",
      "model_module_version": "1.5.0",
      "model_name": "DescriptionStyleModel",
      "state": {
       "_model_module": "@jupyter-widgets/controls",
       "_model_module_version": "1.5.0",
       "_model_name": "DescriptionStyleModel",
       "_view_count": null,
       "_view_module": "@jupyter-widgets/base",
       "_view_module_version": "1.2.0",
       "_view_name": "StyleView",
       "description_width": ""
      }
     },
     "182fb32438b84edeb3f3623ad964e9af": {
      "model_module": "@jupyter-widgets/base",
      "model_module_version": "1.2.0",
      "model_name": "LayoutModel",
      "state": {
       "_model_module": "@jupyter-widgets/base",
       "_model_module_version": "1.2.0",
       "_model_name": "LayoutModel",
       "_view_count": null,
       "_view_module": "@jupyter-widgets/base",
       "_view_module_version": "1.2.0",
       "_view_name": "LayoutView",
       "align_content": null,
       "align_items": null,
       "align_self": null,
       "border": null,
       "bottom": null,
       "display": null,
       "flex": null,
       "flex_flow": null,
       "grid_area": null,
       "grid_auto_columns": null,
       "grid_auto_flow": null,
       "grid_auto_rows": null,
       "grid_column": null,
       "grid_gap": null,
       "grid_row": null,
       "grid_template_areas": null,
       "grid_template_columns": null,
       "grid_template_rows": null,
       "height": null,
       "justify_content": null,
       "justify_items": null,
       "left": null,
       "margin": null,
       "max_height": null,
       "max_width": null,
       "min_height": null,
       "min_width": null,
       "object_fit": null,
       "object_position": null,
       "order": null,
       "overflow": null,
       "overflow_x": null,
       "overflow_y": null,
       "padding": null,
       "right": null,
       "top": null,
       "visibility": null,
       "width": null
      }
     },
     "1d1cd3a22e104f238a8dce25d45772fb": {
      "model_module": "@jupyter-widgets/controls",
      "model_module_version": "1.5.0",
      "model_name": "FloatProgressModel",
      "state": {
       "_dom_classes": [],
       "_model_module": "@jupyter-widgets/controls",
       "_model_module_version": "1.5.0",
       "_model_name": "FloatProgressModel",
       "_view_count": null,
       "_view_module": "@jupyter-widgets/controls",
       "_view_module_version": "1.5.0",
       "_view_name": "ProgressView",
       "bar_style": "success",
       "description": "",
       "description_tooltip": null,
       "layout": "IPY_MODEL_68d9c67b845d4759bcc24d46669ebef0",
       "max": 1.0,
       "min": 0.0,
       "orientation": "horizontal",
       "style": "IPY_MODEL_94ce6dadee3c4a5c9a99f6da7135ca76",
       "value": 1.0
      }
     },
     "2afb06de05aa4f46a24843b9216f4aab": {
      "model_module": "@jupyter-widgets/controls",
      "model_module_version": "1.5.0",
      "model_name": "DescriptionStyleModel",
      "state": {
       "_model_module": "@jupyter-widgets/controls",
       "_model_module_version": "1.5.0",
       "_model_name": "DescriptionStyleModel",
       "_view_count": null,
       "_view_module": "@jupyter-widgets/base",
       "_view_module_version": "1.2.0",
       "_view_name": "StyleView",
       "description_width": ""
      }
     },
     "2cdc56056a6548c8958b9637267d5db1": {
      "model_module": "@jupyter-widgets/base",
      "model_module_version": "1.2.0",
      "model_name": "LayoutModel",
      "state": {
       "_model_module": "@jupyter-widgets/base",
       "_model_module_version": "1.2.0",
       "_model_name": "LayoutModel",
       "_view_count": null,
       "_view_module": "@jupyter-widgets/base",
       "_view_module_version": "1.2.0",
       "_view_name": "LayoutView",
       "align_content": null,
       "align_items": null,
       "align_self": null,
       "border": null,
       "bottom": null,
       "display": null,
       "flex": null,
       "flex_flow": null,
       "grid_area": null,
       "grid_auto_columns": null,
       "grid_auto_flow": null,
       "grid_auto_rows": null,
       "grid_column": null,
       "grid_gap": null,
       "grid_row": null,
       "grid_template_areas": null,
       "grid_template_columns": null,
       "grid_template_rows": null,
       "height": null,
       "justify_content": null,
       "justify_items": null,
       "left": null,
       "margin": null,
       "max_height": null,
       "max_width": null,
       "min_height": null,
       "min_width": null,
       "object_fit": null,
       "object_position": null,
       "order": null,
       "overflow": null,
       "overflow_x": null,
       "overflow_y": null,
       "padding": null,
       "right": null,
       "top": null,
       "visibility": null,
       "width": null
      }
     },
     "309ae5c1b0f84f6a90d6d4e0755585ed": {
      "model_module": "@jupyter-widgets/controls",
      "model_module_version": "1.5.0",
      "model_name": "FloatProgressModel",
      "state": {
       "_dom_classes": [],
       "_model_module": "@jupyter-widgets/controls",
       "_model_module_version": "1.5.0",
       "_model_name": "FloatProgressModel",
       "_view_count": null,
       "_view_module": "@jupyter-widgets/controls",
       "_view_module_version": "1.5.0",
       "_view_name": "ProgressView",
       "bar_style": "success",
       "description": "",
       "description_tooltip": null,
       "layout": "IPY_MODEL_b7f5a9e9fde84d3b8e96f1f05eebe684",
       "max": 1.0,
       "min": 0.0,
       "orientation": "horizontal",
       "style": "IPY_MODEL_746622f5db2d43838b2d54be52221a12",
       "value": 1.0
      }
     },
     "38095ca7e6c14292a657c08bdec86463": {
      "model_module": "@jupyter-widgets/controls",
      "model_module_version": "1.5.0",
      "model_name": "HTMLModel",
      "state": {
       "_dom_classes": [],
       "_model_module": "@jupyter-widgets/controls",
       "_model_module_version": "1.5.0",
       "_model_name": "HTMLModel",
       "_view_count": null,
       "_view_module": "@jupyter-widgets/controls",
       "_view_module_version": "1.5.0",
       "_view_name": "HTMLView",
       "description": "",
       "description_tooltip": null,
       "layout": "IPY_MODEL_afdfaf9d0d0f41fc826207467b3afb17",
       "placeholder": "​",
       "style": "IPY_MODEL_6163952e715a414ebcbb0078d32731e7",
       "value": " 1/1 [00:00&lt;00:00,  7.91it/s]"
      }
     },
     "4f67034999c248b4ab32d22f2383cfc6": {
      "model_module": "@jupyter-widgets/controls",
      "model_module_version": "1.5.0",
      "model_name": "HBoxModel",
      "state": {
       "_dom_classes": [],
       "_model_module": "@jupyter-widgets/controls",
       "_model_module_version": "1.5.0",
       "_model_name": "HBoxModel",
       "_view_count": null,
       "_view_module": "@jupyter-widgets/controls",
       "_view_module_version": "1.5.0",
       "_view_name": "HBoxView",
       "box_style": "",
       "children": [
        "IPY_MODEL_c2ff1d788af645e794fa282c0c25bef1",
        "IPY_MODEL_309ae5c1b0f84f6a90d6d4e0755585ed",
        "IPY_MODEL_753858f5f156497a9b43b319e337d765"
       ],
       "layout": "IPY_MODEL_2cdc56056a6548c8958b9637267d5db1"
      }
     },
     "534bce1f658b4086a5e1ab8c424ee558": {
      "model_module": "@jupyter-widgets/controls",
      "model_module_version": "1.5.0",
      "model_name": "HTMLModel",
      "state": {
       "_dom_classes": [],
       "_model_module": "@jupyter-widgets/controls",
       "_model_module_version": "1.5.0",
       "_model_name": "HTMLModel",
       "_view_count": null,
       "_view_module": "@jupyter-widgets/controls",
       "_view_module_version": "1.5.0",
       "_view_name": "HTMLView",
       "description": "",
       "description_tooltip": null,
       "layout": "IPY_MODEL_b03b17b5ac0b44e5818b6dd73f82ba72",
       "placeholder": "​",
       "style": "IPY_MODEL_11533b4e8f544a66a2d281dee7d22914",
       "value": " 1/1 [00:00&lt;00:00,  7.99it/s]"
      }
     },
     "60ee59dd07274a55946204319b536632": {
      "model_module": "@jupyter-widgets/controls",
      "model_module_version": "1.5.0",
      "model_name": "FloatProgressModel",
      "state": {
       "_dom_classes": [],
       "_model_module": "@jupyter-widgets/controls",
       "_model_module_version": "1.5.0",
       "_model_name": "FloatProgressModel",
       "_view_count": null,
       "_view_module": "@jupyter-widgets/controls",
       "_view_module_version": "1.5.0",
       "_view_name": "ProgressView",
       "bar_style": "success",
       "description": "",
       "description_tooltip": null,
       "layout": "IPY_MODEL_79ef44933c3b4fdcb89f135b3329c11c",
       "max": 1.0,
       "min": 0.0,
       "orientation": "horizontal",
       "style": "IPY_MODEL_14e17014ab99476b90697e80853f60fd",
       "value": 1.0
      }
     },
     "6163952e715a414ebcbb0078d32731e7": {
      "model_module": "@jupyter-widgets/controls",
      "model_module_version": "1.5.0",
      "model_name": "DescriptionStyleModel",
      "state": {
       "_model_module": "@jupyter-widgets/controls",
       "_model_module_version": "1.5.0",
       "_model_name": "DescriptionStyleModel",
       "_view_count": null,
       "_view_module": "@jupyter-widgets/base",
       "_view_module_version": "1.2.0",
       "_view_name": "StyleView",
       "description_width": ""
      }
     },
     "639e6667ab6e4cef87f1d8ecdf883f5f": {
      "model_module": "@jupyter-widgets/controls",
      "model_module_version": "1.5.0",
      "model_name": "ProgressStyleModel",
      "state": {
       "_model_module": "@jupyter-widgets/controls",
       "_model_module_version": "1.5.0",
       "_model_name": "ProgressStyleModel",
       "_view_count": null,
       "_view_module": "@jupyter-widgets/base",
       "_view_module_version": "1.2.0",
       "_view_name": "StyleView",
       "bar_color": null,
       "description_width": ""
      }
     },
     "68d9c67b845d4759bcc24d46669ebef0": {
      "model_module": "@jupyter-widgets/base",
      "model_module_version": "1.2.0",
      "model_name": "LayoutModel",
      "state": {
       "_model_module": "@jupyter-widgets/base",
       "_model_module_version": "1.2.0",
       "_model_name": "LayoutModel",
       "_view_count": null,
       "_view_module": "@jupyter-widgets/base",
       "_view_module_version": "1.2.0",
       "_view_name": "LayoutView",
       "align_content": null,
       "align_items": null,
       "align_self": null,
       "border": null,
       "bottom": null,
       "display": null,
       "flex": null,
       "flex_flow": null,
       "grid_area": null,
       "grid_auto_columns": null,
       "grid_auto_flow": null,
       "grid_auto_rows": null,
       "grid_column": null,
       "grid_gap": null,
       "grid_row": null,
       "grid_template_areas": null,
       "grid_template_columns": null,
       "grid_template_rows": null,
       "height": null,
       "justify_content": null,
       "justify_items": null,
       "left": null,
       "margin": null,
       "max_height": null,
       "max_width": null,
       "min_height": null,
       "min_width": null,
       "object_fit": null,
       "object_position": null,
       "order": null,
       "overflow": null,
       "overflow_x": null,
       "overflow_y": null,
       "padding": null,
       "right": null,
       "top": null,
       "visibility": null,
       "width": null
      }
     },
     "6c3df0d29b784a9c9fd75d151d5e6ec2": {
      "model_module": "@jupyter-widgets/base",
      "model_module_version": "1.2.0",
      "model_name": "LayoutModel",
      "state": {
       "_model_module": "@jupyter-widgets/base",
       "_model_module_version": "1.2.0",
       "_model_name": "LayoutModel",
       "_view_count": null,
       "_view_module": "@jupyter-widgets/base",
       "_view_module_version": "1.2.0",
       "_view_name": "LayoutView",
       "align_content": null,
       "align_items": null,
       "align_self": null,
       "border": null,
       "bottom": null,
       "display": null,
       "flex": null,
       "flex_flow": null,
       "grid_area": null,
       "grid_auto_columns": null,
       "grid_auto_flow": null,
       "grid_auto_rows": null,
       "grid_column": null,
       "grid_gap": null,
       "grid_row": null,
       "grid_template_areas": null,
       "grid_template_columns": null,
       "grid_template_rows": null,
       "height": null,
       "justify_content": null,
       "justify_items": null,
       "left": null,
       "margin": null,
       "max_height": null,
       "max_width": null,
       "min_height": null,
       "min_width": null,
       "object_fit": null,
       "object_position": null,
       "order": null,
       "overflow": null,
       "overflow_x": null,
       "overflow_y": null,
       "padding": null,
       "right": null,
       "top": null,
       "visibility": null,
       "width": null
      }
     },
     "6eb05556ea6f47a59dd7576e5caa5f3a": {
      "model_module": "@jupyter-widgets/controls",
      "model_module_version": "1.5.0",
      "model_name": "DescriptionStyleModel",
      "state": {
       "_model_module": "@jupyter-widgets/controls",
       "_model_module_version": "1.5.0",
       "_model_name": "DescriptionStyleModel",
       "_view_count": null,
       "_view_module": "@jupyter-widgets/base",
       "_view_module_version": "1.2.0",
       "_view_name": "StyleView",
       "description_width": ""
      }
     },
     "746622f5db2d43838b2d54be52221a12": {
      "model_module": "@jupyter-widgets/controls",
      "model_module_version": "1.5.0",
      "model_name": "ProgressStyleModel",
      "state": {
       "_model_module": "@jupyter-widgets/controls",
       "_model_module_version": "1.5.0",
       "_model_name": "ProgressStyleModel",
       "_view_count": null,
       "_view_module": "@jupyter-widgets/base",
       "_view_module_version": "1.2.0",
       "_view_name": "StyleView",
       "bar_color": null,
       "description_width": ""
      }
     },
     "753858f5f156497a9b43b319e337d765": {
      "model_module": "@jupyter-widgets/controls",
      "model_module_version": "1.5.0",
      "model_name": "HTMLModel",
      "state": {
       "_dom_classes": [],
       "_model_module": "@jupyter-widgets/controls",
       "_model_module_version": "1.5.0",
       "_model_name": "HTMLModel",
       "_view_count": null,
       "_view_module": "@jupyter-widgets/controls",
       "_view_module_version": "1.5.0",
       "_view_name": "HTMLView",
       "description": "",
       "description_tooltip": null,
       "layout": "IPY_MODEL_d8368b5587e24d4292b0d6e697716fa1",
       "placeholder": "​",
       "style": "IPY_MODEL_2afb06de05aa4f46a24843b9216f4aab",
       "value": " 1/1 [00:00&lt;00:00,  7.57it/s]"
      }
     },
     "79ef44933c3b4fdcb89f135b3329c11c": {
      "model_module": "@jupyter-widgets/base",
      "model_module_version": "1.2.0",
      "model_name": "LayoutModel",
      "state": {
       "_model_module": "@jupyter-widgets/base",
       "_model_module_version": "1.2.0",
       "_model_name": "LayoutModel",
       "_view_count": null,
       "_view_module": "@jupyter-widgets/base",
       "_view_module_version": "1.2.0",
       "_view_name": "LayoutView",
       "align_content": null,
       "align_items": null,
       "align_self": null,
       "border": null,
       "bottom": null,
       "display": null,
       "flex": null,
       "flex_flow": null,
       "grid_area": null,
       "grid_auto_columns": null,
       "grid_auto_flow": null,
       "grid_auto_rows": null,
       "grid_column": null,
       "grid_gap": null,
       "grid_row": null,
       "grid_template_areas": null,
       "grid_template_columns": null,
       "grid_template_rows": null,
       "height": null,
       "justify_content": null,
       "justify_items": null,
       "left": null,
       "margin": null,
       "max_height": null,
       "max_width": null,
       "min_height": null,
       "min_width": null,
       "object_fit": null,
       "object_position": null,
       "order": null,
       "overflow": null,
       "overflow_x": null,
       "overflow_y": null,
       "padding": null,
       "right": null,
       "top": null,
       "visibility": null,
       "width": null
      }
     },
     "7db8e9f45c7a424fb80611fad5bc773a": {
      "model_module": "@jupyter-widgets/base",
      "model_module_version": "1.2.0",
      "model_name": "LayoutModel",
      "state": {
       "_model_module": "@jupyter-widgets/base",
       "_model_module_version": "1.2.0",
       "_model_name": "LayoutModel",
       "_view_count": null,
       "_view_module": "@jupyter-widgets/base",
       "_view_module_version": "1.2.0",
       "_view_name": "LayoutView",
       "align_content": null,
       "align_items": null,
       "align_self": null,
       "border": null,
       "bottom": null,
       "display": null,
       "flex": null,
       "flex_flow": null,
       "grid_area": null,
       "grid_auto_columns": null,
       "grid_auto_flow": null,
       "grid_auto_rows": null,
       "grid_column": null,
       "grid_gap": null,
       "grid_row": null,
       "grid_template_areas": null,
       "grid_template_columns": null,
       "grid_template_rows": null,
       "height": null,
       "justify_content": null,
       "justify_items": null,
       "left": null,
       "margin": null,
       "max_height": null,
       "max_width": null,
       "min_height": null,
       "min_width": null,
       "object_fit": null,
       "object_position": null,
       "order": null,
       "overflow": null,
       "overflow_x": null,
       "overflow_y": null,
       "padding": null,
       "right": null,
       "top": null,
       "visibility": null,
       "width": null
      }
     },
     "924f8389aa3b49a0a6143123f7819aa9": {
      "model_module": "@jupyter-widgets/controls",
      "model_module_version": "1.5.0",
      "model_name": "HBoxModel",
      "state": {
       "_dom_classes": [],
       "_model_module": "@jupyter-widgets/controls",
       "_model_module_version": "1.5.0",
       "_model_name": "HBoxModel",
       "_view_count": null,
       "_view_module": "@jupyter-widgets/controls",
       "_view_module_version": "1.5.0",
       "_view_name": "HBoxView",
       "box_style": "",
       "children": [
        "IPY_MODEL_046b26c1ea1f4a758bec2f0101b83bfb",
        "IPY_MODEL_60ee59dd07274a55946204319b536632",
        "IPY_MODEL_38095ca7e6c14292a657c08bdec86463"
       ],
       "layout": "IPY_MODEL_a42d37b9fdbe4864a90d5ed5486bba02"
      }
     },
     "94ce6dadee3c4a5c9a99f6da7135ca76": {
      "model_module": "@jupyter-widgets/controls",
      "model_module_version": "1.5.0",
      "model_name": "ProgressStyleModel",
      "state": {
       "_model_module": "@jupyter-widgets/controls",
       "_model_module_version": "1.5.0",
       "_model_name": "ProgressStyleModel",
       "_view_count": null,
       "_view_module": "@jupyter-widgets/base",
       "_view_module_version": "1.2.0",
       "_view_name": "StyleView",
       "bar_color": null,
       "description_width": ""
      }
     },
     "9512ba7cf1474697a867b7fdb29bd290": {
      "model_module": "@jupyter-widgets/controls",
      "model_module_version": "1.5.0",
      "model_name": "DescriptionStyleModel",
      "state": {
       "_model_module": "@jupyter-widgets/controls",
       "_model_module_version": "1.5.0",
       "_model_name": "DescriptionStyleModel",
       "_view_count": null,
       "_view_module": "@jupyter-widgets/base",
       "_view_module_version": "1.2.0",
       "_view_name": "StyleView",
       "description_width": ""
      }
     },
     "96284639a4944b9fa731e669b593a558": {
      "model_module": "@jupyter-widgets/base",
      "model_module_version": "1.2.0",
      "model_name": "LayoutModel",
      "state": {
       "_model_module": "@jupyter-widgets/base",
       "_model_module_version": "1.2.0",
       "_model_name": "LayoutModel",
       "_view_count": null,
       "_view_module": "@jupyter-widgets/base",
       "_view_module_version": "1.2.0",
       "_view_name": "LayoutView",
       "align_content": null,
       "align_items": null,
       "align_self": null,
       "border": null,
       "bottom": null,
       "display": null,
       "flex": null,
       "flex_flow": null,
       "grid_area": null,
       "grid_auto_columns": null,
       "grid_auto_flow": null,
       "grid_auto_rows": null,
       "grid_column": null,
       "grid_gap": null,
       "grid_row": null,
       "grid_template_areas": null,
       "grid_template_columns": null,
       "grid_template_rows": null,
       "height": null,
       "justify_content": null,
       "justify_items": null,
       "left": null,
       "margin": null,
       "max_height": null,
       "max_width": null,
       "min_height": null,
       "min_width": null,
       "object_fit": null,
       "object_position": null,
       "order": null,
       "overflow": null,
       "overflow_x": null,
       "overflow_y": null,
       "padding": null,
       "right": null,
       "top": null,
       "visibility": null,
       "width": null
      }
     },
     "9c2c6a35773a4481add1efdc714ef7cd": {
      "model_module": "@jupyter-widgets/controls",
      "model_module_version": "1.5.0",
      "model_name": "HTMLModel",
      "state": {
       "_dom_classes": [],
       "_model_module": "@jupyter-widgets/controls",
       "_model_module_version": "1.5.0",
       "_model_name": "HTMLModel",
       "_view_count": null,
       "_view_module": "@jupyter-widgets/controls",
       "_view_module_version": "1.5.0",
       "_view_name": "HTMLView",
       "description": "",
       "description_tooltip": null,
       "layout": "IPY_MODEL_aa7cbb94d6d44f09b4e354b0fc895676",
       "placeholder": "​",
       "style": "IPY_MODEL_18235ae161604c0293fd96d6a29ecd0a",
       "value": " 1/1 [00:02&lt;00:00,  2.00s/it]"
      }
     },
     "9ca59b6b23794944b7f8a109ab5366ac": {
      "model_module": "@jupyter-widgets/controls",
      "model_module_version": "1.5.0",
      "model_name": "HTMLModel",
      "state": {
       "_dom_classes": [],
       "_model_module": "@jupyter-widgets/controls",
       "_model_module_version": "1.5.0",
       "_model_name": "HTMLModel",
       "_view_count": null,
       "_view_module": "@jupyter-widgets/controls",
       "_view_module_version": "1.5.0",
       "_view_name": "HTMLView",
       "description": "",
       "description_tooltip": null,
       "layout": "IPY_MODEL_7db8e9f45c7a424fb80611fad5bc773a",
       "placeholder": "​",
       "style": "IPY_MODEL_9512ba7cf1474697a867b7fdb29bd290",
       "value": "100%"
      }
     },
     "a42d37b9fdbe4864a90d5ed5486bba02": {
      "model_module": "@jupyter-widgets/base",
      "model_module_version": "1.2.0",
      "model_name": "LayoutModel",
      "state": {
       "_model_module": "@jupyter-widgets/base",
       "_model_module_version": "1.2.0",
       "_model_name": "LayoutModel",
       "_view_count": null,
       "_view_module": "@jupyter-widgets/base",
       "_view_module_version": "1.2.0",
       "_view_name": "LayoutView",
       "align_content": null,
       "align_items": null,
       "align_self": null,
       "border": null,
       "bottom": null,
       "display": null,
       "flex": null,
       "flex_flow": null,
       "grid_area": null,
       "grid_auto_columns": null,
       "grid_auto_flow": null,
       "grid_auto_rows": null,
       "grid_column": null,
       "grid_gap": null,
       "grid_row": null,
       "grid_template_areas": null,
       "grid_template_columns": null,
       "grid_template_rows": null,
       "height": null,
       "justify_content": null,
       "justify_items": null,
       "left": null,
       "margin": null,
       "max_height": null,
       "max_width": null,
       "min_height": null,
       "min_width": null,
       "object_fit": null,
       "object_position": null,
       "order": null,
       "overflow": null,
       "overflow_x": null,
       "overflow_y": null,
       "padding": null,
       "right": null,
       "top": null,
       "visibility": null,
       "width": null
      }
     },
     "a5298a12852d42358192929d424506b8": {
      "model_module": "@jupyter-widgets/base",
      "model_module_version": "1.2.0",
      "model_name": "LayoutModel",
      "state": {
       "_model_module": "@jupyter-widgets/base",
       "_model_module_version": "1.2.0",
       "_model_name": "LayoutModel",
       "_view_count": null,
       "_view_module": "@jupyter-widgets/base",
       "_view_module_version": "1.2.0",
       "_view_name": "LayoutView",
       "align_content": null,
       "align_items": null,
       "align_self": null,
       "border": null,
       "bottom": null,
       "display": null,
       "flex": null,
       "flex_flow": null,
       "grid_area": null,
       "grid_auto_columns": null,
       "grid_auto_flow": null,
       "grid_auto_rows": null,
       "grid_column": null,
       "grid_gap": null,
       "grid_row": null,
       "grid_template_areas": null,
       "grid_template_columns": null,
       "grid_template_rows": null,
       "height": null,
       "justify_content": null,
       "justify_items": null,
       "left": null,
       "margin": null,
       "max_height": null,
       "max_width": null,
       "min_height": null,
       "min_width": null,
       "object_fit": null,
       "object_position": null,
       "order": null,
       "overflow": null,
       "overflow_x": null,
       "overflow_y": null,
       "padding": null,
       "right": null,
       "top": null,
       "visibility": null,
       "width": null
      }
     },
     "aa7cbb94d6d44f09b4e354b0fc895676": {
      "model_module": "@jupyter-widgets/base",
      "model_module_version": "1.2.0",
      "model_name": "LayoutModel",
      "state": {
       "_model_module": "@jupyter-widgets/base",
       "_model_module_version": "1.2.0",
       "_model_name": "LayoutModel",
       "_view_count": null,
       "_view_module": "@jupyter-widgets/base",
       "_view_module_version": "1.2.0",
       "_view_name": "LayoutView",
       "align_content": null,
       "align_items": null,
       "align_self": null,
       "border": null,
       "bottom": null,
       "display": null,
       "flex": null,
       "flex_flow": null,
       "grid_area": null,
       "grid_auto_columns": null,
       "grid_auto_flow": null,
       "grid_auto_rows": null,
       "grid_column": null,
       "grid_gap": null,
       "grid_row": null,
       "grid_template_areas": null,
       "grid_template_columns": null,
       "grid_template_rows": null,
       "height": null,
       "justify_content": null,
       "justify_items": null,
       "left": null,
       "margin": null,
       "max_height": null,
       "max_width": null,
       "min_height": null,
       "min_width": null,
       "object_fit": null,
       "object_position": null,
       "order": null,
       "overflow": null,
       "overflow_x": null,
       "overflow_y": null,
       "padding": null,
       "right": null,
       "top": null,
       "visibility": null,
       "width": null
      }
     },
     "aba613f78b5f4c22937a25c3bf2b4779": {
      "model_module": "@jupyter-widgets/controls",
      "model_module_version": "1.5.0",
      "model_name": "HTMLModel",
      "state": {
       "_dom_classes": [],
       "_model_module": "@jupyter-widgets/controls",
       "_model_module_version": "1.5.0",
       "_model_name": "HTMLModel",
       "_view_count": null,
       "_view_module": "@jupyter-widgets/controls",
       "_view_module_version": "1.5.0",
       "_view_name": "HTMLView",
       "description": "",
       "description_tooltip": null,
       "layout": "IPY_MODEL_c2d1e989314e4578b69f48c5fafd3a19",
       "placeholder": "​",
       "style": "IPY_MODEL_e1449d1c6be34646b6e37e0015bdbe98",
       "value": "100%"
      }
     },
     "afdfaf9d0d0f41fc826207467b3afb17": {
      "model_module": "@jupyter-widgets/base",
      "model_module_version": "1.2.0",
      "model_name": "LayoutModel",
      "state": {
       "_model_module": "@jupyter-widgets/base",
       "_model_module_version": "1.2.0",
       "_model_name": "LayoutModel",
       "_view_count": null,
       "_view_module": "@jupyter-widgets/base",
       "_view_module_version": "1.2.0",
       "_view_name": "LayoutView",
       "align_content": null,
       "align_items": null,
       "align_self": null,
       "border": null,
       "bottom": null,
       "display": null,
       "flex": null,
       "flex_flow": null,
       "grid_area": null,
       "grid_auto_columns": null,
       "grid_auto_flow": null,
       "grid_auto_rows": null,
       "grid_column": null,
       "grid_gap": null,
       "grid_row": null,
       "grid_template_areas": null,
       "grid_template_columns": null,
       "grid_template_rows": null,
       "height": null,
       "justify_content": null,
       "justify_items": null,
       "left": null,
       "margin": null,
       "max_height": null,
       "max_width": null,
       "min_height": null,
       "min_width": null,
       "object_fit": null,
       "object_position": null,
       "order": null,
       "overflow": null,
       "overflow_x": null,
       "overflow_y": null,
       "padding": null,
       "right": null,
       "top": null,
       "visibility": null,
       "width": null
      }
     },
     "b03b17b5ac0b44e5818b6dd73f82ba72": {
      "model_module": "@jupyter-widgets/base",
      "model_module_version": "1.2.0",
      "model_name": "LayoutModel",
      "state": {
       "_model_module": "@jupyter-widgets/base",
       "_model_module_version": "1.2.0",
       "_model_name": "LayoutModel",
       "_view_count": null,
       "_view_module": "@jupyter-widgets/base",
       "_view_module_version": "1.2.0",
       "_view_name": "LayoutView",
       "align_content": null,
       "align_items": null,
       "align_self": null,
       "border": null,
       "bottom": null,
       "display": null,
       "flex": null,
       "flex_flow": null,
       "grid_area": null,
       "grid_auto_columns": null,
       "grid_auto_flow": null,
       "grid_auto_rows": null,
       "grid_column": null,
       "grid_gap": null,
       "grid_row": null,
       "grid_template_areas": null,
       "grid_template_columns": null,
       "grid_template_rows": null,
       "height": null,
       "justify_content": null,
       "justify_items": null,
       "left": null,
       "margin": null,
       "max_height": null,
       "max_width": null,
       "min_height": null,
       "min_width": null,
       "object_fit": null,
       "object_position": null,
       "order": null,
       "overflow": null,
       "overflow_x": null,
       "overflow_y": null,
       "padding": null,
       "right": null,
       "top": null,
       "visibility": null,
       "width": null
      }
     },
     "b7f5a9e9fde84d3b8e96f1f05eebe684": {
      "model_module": "@jupyter-widgets/base",
      "model_module_version": "1.2.0",
      "model_name": "LayoutModel",
      "state": {
       "_model_module": "@jupyter-widgets/base",
       "_model_module_version": "1.2.0",
       "_model_name": "LayoutModel",
       "_view_count": null,
       "_view_module": "@jupyter-widgets/base",
       "_view_module_version": "1.2.0",
       "_view_name": "LayoutView",
       "align_content": null,
       "align_items": null,
       "align_self": null,
       "border": null,
       "bottom": null,
       "display": null,
       "flex": null,
       "flex_flow": null,
       "grid_area": null,
       "grid_auto_columns": null,
       "grid_auto_flow": null,
       "grid_auto_rows": null,
       "grid_column": null,
       "grid_gap": null,
       "grid_row": null,
       "grid_template_areas": null,
       "grid_template_columns": null,
       "grid_template_rows": null,
       "height": null,
       "justify_content": null,
       "justify_items": null,
       "left": null,
       "margin": null,
       "max_height": null,
       "max_width": null,
       "min_height": null,
       "min_width": null,
       "object_fit": null,
       "object_position": null,
       "order": null,
       "overflow": null,
       "overflow_x": null,
       "overflow_y": null,
       "padding": null,
       "right": null,
       "top": null,
       "visibility": null,
       "width": null
      }
     },
     "bdecb85b15be4f418c59ec6b0bbde28c": {
      "model_module": "@jupyter-widgets/base",
      "model_module_version": "1.2.0",
      "model_name": "LayoutModel",
      "state": {
       "_model_module": "@jupyter-widgets/base",
       "_model_module_version": "1.2.0",
       "_model_name": "LayoutModel",
       "_view_count": null,
       "_view_module": "@jupyter-widgets/base",
       "_view_module_version": "1.2.0",
       "_view_name": "LayoutView",
       "align_content": null,
       "align_items": null,
       "align_self": null,
       "border": null,
       "bottom": null,
       "display": null,
       "flex": null,
       "flex_flow": null,
       "grid_area": null,
       "grid_auto_columns": null,
       "grid_auto_flow": null,
       "grid_auto_rows": null,
       "grid_column": null,
       "grid_gap": null,
       "grid_row": null,
       "grid_template_areas": null,
       "grid_template_columns": null,
       "grid_template_rows": null,
       "height": null,
       "justify_content": null,
       "justify_items": null,
       "left": null,
       "margin": null,
       "max_height": null,
       "max_width": null,
       "min_height": null,
       "min_width": null,
       "object_fit": null,
       "object_position": null,
       "order": null,
       "overflow": null,
       "overflow_x": null,
       "overflow_y": null,
       "padding": null,
       "right": null,
       "top": null,
       "visibility": null,
       "width": null
      }
     },
     "c2d1e989314e4578b69f48c5fafd3a19": {
      "model_module": "@jupyter-widgets/base",
      "model_module_version": "1.2.0",
      "model_name": "LayoutModel",
      "state": {
       "_model_module": "@jupyter-widgets/base",
       "_model_module_version": "1.2.0",
       "_model_name": "LayoutModel",
       "_view_count": null,
       "_view_module": "@jupyter-widgets/base",
       "_view_module_version": "1.2.0",
       "_view_name": "LayoutView",
       "align_content": null,
       "align_items": null,
       "align_self": null,
       "border": null,
       "bottom": null,
       "display": null,
       "flex": null,
       "flex_flow": null,
       "grid_area": null,
       "grid_auto_columns": null,
       "grid_auto_flow": null,
       "grid_auto_rows": null,
       "grid_column": null,
       "grid_gap": null,
       "grid_row": null,
       "grid_template_areas": null,
       "grid_template_columns": null,
       "grid_template_rows": null,
       "height": null,
       "justify_content": null,
       "justify_items": null,
       "left": null,
       "margin": null,
       "max_height": null,
       "max_width": null,
       "min_height": null,
       "min_width": null,
       "object_fit": null,
       "object_position": null,
       "order": null,
       "overflow": null,
       "overflow_x": null,
       "overflow_y": null,
       "padding": null,
       "right": null,
       "top": null,
       "visibility": null,
       "width": null
      }
     },
     "c2ff1d788af645e794fa282c0c25bef1": {
      "model_module": "@jupyter-widgets/controls",
      "model_module_version": "1.5.0",
      "model_name": "HTMLModel",
      "state": {
       "_dom_classes": [],
       "_model_module": "@jupyter-widgets/controls",
       "_model_module_version": "1.5.0",
       "_model_name": "HTMLModel",
       "_view_count": null,
       "_view_module": "@jupyter-widgets/controls",
       "_view_module_version": "1.5.0",
       "_view_name": "HTMLView",
       "description": "",
       "description_tooltip": null,
       "layout": "IPY_MODEL_6c3df0d29b784a9c9fd75d151d5e6ec2",
       "placeholder": "​",
       "style": "IPY_MODEL_e1fc0ceb50b04b7b8e88e0fa0e1eafcf",
       "value": "100%"
      }
     },
     "d168850bf7584155adfde27ab915cd22": {
      "model_module": "@jupyter-widgets/controls",
      "model_module_version": "1.5.0",
      "model_name": "HBoxModel",
      "state": {
       "_dom_classes": [],
       "_model_module": "@jupyter-widgets/controls",
       "_model_module_version": "1.5.0",
       "_model_name": "HBoxModel",
       "_view_count": null,
       "_view_module": "@jupyter-widgets/controls",
       "_view_module_version": "1.5.0",
       "_view_name": "HBoxView",
       "box_style": "",
       "children": [
        "IPY_MODEL_9ca59b6b23794944b7f8a109ab5366ac",
        "IPY_MODEL_eb7255ef70004da5bc45fd0229c2a31c",
        "IPY_MODEL_9c2c6a35773a4481add1efdc714ef7cd"
       ],
       "layout": "IPY_MODEL_182fb32438b84edeb3f3623ad964e9af"
      }
     },
     "d8368b5587e24d4292b0d6e697716fa1": {
      "model_module": "@jupyter-widgets/base",
      "model_module_version": "1.2.0",
      "model_name": "LayoutModel",
      "state": {
       "_model_module": "@jupyter-widgets/base",
       "_model_module_version": "1.2.0",
       "_model_name": "LayoutModel",
       "_view_count": null,
       "_view_module": "@jupyter-widgets/base",
       "_view_module_version": "1.2.0",
       "_view_name": "LayoutView",
       "align_content": null,
       "align_items": null,
       "align_self": null,
       "border": null,
       "bottom": null,
       "display": null,
       "flex": null,
       "flex_flow": null,
       "grid_area": null,
       "grid_auto_columns": null,
       "grid_auto_flow": null,
       "grid_auto_rows": null,
       "grid_column": null,
       "grid_gap": null,
       "grid_row": null,
       "grid_template_areas": null,
       "grid_template_columns": null,
       "grid_template_rows": null,
       "height": null,
       "justify_content": null,
       "justify_items": null,
       "left": null,
       "margin": null,
       "max_height": null,
       "max_width": null,
       "min_height": null,
       "min_width": null,
       "object_fit": null,
       "object_position": null,
       "order": null,
       "overflow": null,
       "overflow_x": null,
       "overflow_y": null,
       "padding": null,
       "right": null,
       "top": null,
       "visibility": null,
       "width": null
      }
     },
     "e1449d1c6be34646b6e37e0015bdbe98": {
      "model_module": "@jupyter-widgets/controls",
      "model_module_version": "1.5.0",
      "model_name": "DescriptionStyleModel",
      "state": {
       "_model_module": "@jupyter-widgets/controls",
       "_model_module_version": "1.5.0",
       "_model_name": "DescriptionStyleModel",
       "_view_count": null,
       "_view_module": "@jupyter-widgets/base",
       "_view_module_version": "1.2.0",
       "_view_name": "StyleView",
       "description_width": ""
      }
     },
     "e1fc0ceb50b04b7b8e88e0fa0e1eafcf": {
      "model_module": "@jupyter-widgets/controls",
      "model_module_version": "1.5.0",
      "model_name": "DescriptionStyleModel",
      "state": {
       "_model_module": "@jupyter-widgets/controls",
       "_model_module_version": "1.5.0",
       "_model_name": "DescriptionStyleModel",
       "_view_count": null,
       "_view_module": "@jupyter-widgets/base",
       "_view_module_version": "1.2.0",
       "_view_name": "StyleView",
       "description_width": ""
      }
     },
     "eb7255ef70004da5bc45fd0229c2a31c": {
      "model_module": "@jupyter-widgets/controls",
      "model_module_version": "1.5.0",
      "model_name": "FloatProgressModel",
      "state": {
       "_dom_classes": [],
       "_model_module": "@jupyter-widgets/controls",
       "_model_module_version": "1.5.0",
       "_model_name": "FloatProgressModel",
       "_view_count": null,
       "_view_module": "@jupyter-widgets/controls",
       "_view_module_version": "1.5.0",
       "_view_name": "ProgressView",
       "bar_style": "success",
       "description": "",
       "description_tooltip": null,
       "layout": "IPY_MODEL_96284639a4944b9fa731e669b593a558",
       "max": 1.0,
       "min": 0.0,
       "orientation": "horizontal",
       "style": "IPY_MODEL_639e6667ab6e4cef87f1d8ecdf883f5f",
       "value": 1.0
      }
     },
     "f2301108e286481da9bd214ad142ebb0": {
      "model_module": "@jupyter-widgets/controls",
      "model_module_version": "1.5.0",
      "model_name": "HBoxModel",
      "state": {
       "_dom_classes": [],
       "_model_module": "@jupyter-widgets/controls",
       "_model_module_version": "1.5.0",
       "_model_name": "HBoxModel",
       "_view_count": null,
       "_view_module": "@jupyter-widgets/controls",
       "_view_module_version": "1.5.0",
       "_view_name": "HBoxView",
       "box_style": "",
       "children": [
        "IPY_MODEL_aba613f78b5f4c22937a25c3bf2b4779",
        "IPY_MODEL_1d1cd3a22e104f238a8dce25d45772fb",
        "IPY_MODEL_534bce1f658b4086a5e1ab8c424ee558"
       ],
       "layout": "IPY_MODEL_bdecb85b15be4f418c59ec6b0bbde28c"
      }
     }
    },
    "version_major": 2,
    "version_minor": 0
   }
  }
 },
 "nbformat": 4,
 "nbformat_minor": 5
}
