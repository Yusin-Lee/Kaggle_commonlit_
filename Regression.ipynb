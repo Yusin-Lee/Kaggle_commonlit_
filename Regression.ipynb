{
 "cells": [
  {
   "cell_type": "code",
   "execution_count": 1,
   "metadata": {},
   "outputs": [],
   "source": [
    "import pandas as pd\n",
    "from transformers import AutoTokenizer, AutoModel, BigBirdTokenizer\n",
    "from sklearn.metrics.pairwise import cosine_similarity\n",
    "from sklearn import metrics\n",
    "from sklearn.preprocessing import MinMaxScaler, StandardScaler, RobustScaler\n",
    "from sklearn.model_selection import train_test_split, GridSearchCV\n",
    "from tqdm import tqdm\n",
    "import textstat\n",
    "import torch\n",
    "import numpy as np\n",
    "import catboost"
   ]
  },
  {
   "cell_type": "code",
   "execution_count": 2,
   "metadata": {},
   "outputs": [],
   "source": [
    "prompts_train = pd.read_csv('./data/prompts_train.csv')\n",
    "summaries_train = pd.read_csv('./data/summaries_train.csv')\n",
    "prompts_test = pd.read_csv('./data/prompts_test.csv')\n",
    "summaries_test = pd.read_csv('./data/summaries_test.csv')"
   ]
  },
  {
   "cell_type": "code",
   "execution_count": 3,
   "metadata": {},
   "outputs": [],
   "source": [
    "summaries_train['word_counts'] = summaries_train['text'].apply(lambda x : len(set(x.lower().split(' '))))\n",
    "summaries_train['smog_index'] = summaries_train['text'].apply(lambda x : textstat.smog_index(x))\n",
    "prompts_train['prompt_text'] = prompts_train['prompt_text'].str.replace('\\r','')\n",
    "prompts_train['prompt_text'] = prompts_train['prompt_text'].str.replace('\\n','')"
   ]
  },
  {
   "cell_type": "code",
   "execution_count": 4,
   "metadata": {},
   "outputs": [],
   "source": [
    "summaries_test['word_counts'] = summaries_test['text'].apply(lambda x : len(set(x.lower().split(' '))))\n",
    "summaries_test['smog_index'] = summaries_test['text'].apply(lambda x : textstat.smog_index(x))\n",
    "prompts_test['prompt_text'] = prompts_test['prompt_text'].str.replace('\\r','')\n",
    "prompts_test['prompt_text'] = prompts_test['prompt_text'].str.replace('\\n','')"
   ]
  },
  {
   "cell_type": "code",
   "execution_count": null,
   "metadata": {},
   "outputs": [],
   "source": [
    "tokenizer = AutoTokenizer.from_pretrained('allenai/longformer-base-4096')\n",
    "embedding_model = AutoModel.from_pretrained('allenai/longformer-base-4096')\n",
    "embedding_model.cuda()\n",
    "embedding_model.eval()"
   ]
  },
  {
   "cell_type": "code",
   "execution_count": 6,
   "metadata": {},
   "outputs": [],
   "source": [
    "def prompt_embedding(embedding_model, prompt):\n",
    "    encoded_prompt = tokenizer(prompt, max_length=2048, return_tensors = 'pt')\n",
    "    encoded_prompt = {i: v.to(\"cuda\") for i, v in encoded_prompt.items()}\n",
    "    with torch.no_grad():\n",
    "        prompt_output = embedding_model(**encoded_prompt)\n",
    "    embedding = prompt_output.pooler_output\n",
    "    return embedding"
   ]
  },
  {
   "cell_type": "code",
   "execution_count": 7,
   "metadata": {},
   "outputs": [
    {
     "name": "stderr",
     "output_type": "stream",
     "text": [
      "Truncation was not explicitly activated but `max_length` is provided a specific value, please use `truncation=True` to explicitly truncate examples to max length. Defaulting to 'longest_first' truncation strategy. If you encode pairs of sequences (GLUE-style) with the tokenizer you can select this strategy more precisely by providing a specific strategy to `truncation`.\n"
     ]
    }
   ],
   "source": [
    "embeddings = []\n",
    "for prompt in prompts_train['prompt_text']:\n",
    "    embedding = prompt_embedding(embedding_model,prompt)\n",
    "    embeddings += embedding.detach().cpu().tolist()\n",
    "prompts_train['embeded_prompt_text'] = embeddings\n",
    "\n",
    "embeddings = []\n",
    "for prompt in prompts_test['prompt_text']:\n",
    "    embedding = prompt_embedding(embedding_model,prompt)\n",
    "    embeddings += embedding.detach().cpu().tolist()\n",
    "prompts_test['embeded_prompt_text'] = embeddings"
   ]
  },
  {
   "cell_type": "code",
   "execution_count": 8,
   "metadata": {},
   "outputs": [],
   "source": [
    "def filter_(text,prompt):\n",
    "    count = 0\n",
    "    for num in text:\n",
    "        if num in prompt:\n",
    "            count += 1\n",
    "    return count"
   ]
  },
  {
   "cell_type": "code",
   "execution_count": 9,
   "metadata": {},
   "outputs": [],
   "source": [
    "encoded_prompts = []\n",
    "for prompt_text in prompts_train['prompt_text']:\n",
    "    encoded_prompts.append(tokenizer.encode(prompt_text))\n",
    "prompts_train['encoded_prompt'] = encoded_prompts\n",
    "\n",
    "counts_duplicate = []\n",
    "own_unique_words = []\n",
    "for i in range(len(summaries_train)):\n",
    "    student_text = summaries_train.iloc[i]['text']\n",
    "    prompt_id = summaries_train.iloc[i]['prompt_id']\n",
    "    encoded_prompt = prompts_train[prompts_train['prompt_id'] == prompt_id]['encoded_prompt'].tolist()[0]\n",
    "    encoded_text = tokenizer.encode(student_text)\n",
    "    count_duplicate = len(set(encoded_text) & set(encoded_prompt))\n",
    "    counts_duplicate.append(count_duplicate)\n",
    "    own_unique_words.append(len(set(encoded_text) - set(encoded_prompt)))\n",
    "summaries_train['counts_duplicate'] = counts_duplicate\n",
    "summaries_train['own_unique_words'] = own_unique_words"
   ]
  },
  {
   "cell_type": "code",
   "execution_count": 10,
   "metadata": {},
   "outputs": [],
   "source": [
    "encoded_prompts = []\n",
    "for prompt_text in prompts_test['prompt_text']:\n",
    "    encoded_prompts.append(tokenizer.encode(prompt_text))\n",
    "prompts_test['encoded_prompt'] = encoded_prompts\n",
    "\n",
    "counts_duplicate = []\n",
    "own_unique_words = []\n",
    "for i in range(len(summaries_test)):\n",
    "    student_text = summaries_test.iloc[i]['text']\n",
    "    prompt_id = summaries_test.iloc[i]['prompt_id']\n",
    "    encoded_prompt = prompts_test[prompts_test['prompt_id'] == prompt_id]['encoded_prompt'].tolist()[0]\n",
    "    encoded_text = tokenizer.encode(student_text)\n",
    "    count_duplicate = len(set(encoded_text) & set(encoded_prompt))\n",
    "    counts_duplicate.append(count_duplicate)\n",
    "    own_unique_words.append(len(set(encoded_text) - set(encoded_prompt)))\n",
    "summaries_test['counts_duplicate'] = counts_duplicate\n",
    "summaries_test['own_unique_words'] = own_unique_words"
   ]
  },
  {
   "cell_type": "code",
   "execution_count": 11,
   "metadata": {},
   "outputs": [
    {
     "name": "stderr",
     "output_type": "stream",
     "text": [
      "100%|██████████| 7165/7165 [04:16<00:00, 27.94it/s]\n"
     ]
    }
   ],
   "source": [
    "cos_sim = []\n",
    "for i in tqdm(range(len(summaries_train))):\n",
    "    text_1 = summaries_train['text'][i]\n",
    "    prompt_id = summaries_train['prompt_id'][i]\n",
    "    prompt_output = prompts_train[prompts_train['prompt_id'] == prompt_id]['embeded_prompt_text']\n",
    "    input_text = tokenizer(text_1,max_length=1024,return_tensors='pt')\n",
    "    input_text = {i: v.to(\"cuda\") for i, v in input_text.items()}\n",
    "    with torch.no_grad():\n",
    "        text_output = embedding_model(**input_text)\n",
    "    text_output = text_output.pooler_output\n",
    "    cos_sim.append(cosine_similarity(text_output[0].detach().cpu().numpy().reshape(1,-1),np.array(prompt_output.values[0]).reshape(1,-1)))\n",
    "scaler =  RobustScaler()  #MinMaxScaler\n",
    "summaries_train['cos_sim'] = np.array(cos_sim).flatten()\n",
    "summaries_train[['word_counts','smog_index','cos_sim','counts_duplicate', 'own_unique_words']] = scaler.fit_transform(summaries_train[['word_counts','smog_index','cos_sim','counts_duplicate', 'own_unique_words']])"
   ]
  },
  {
   "cell_type": "code",
   "execution_count": 12,
   "metadata": {},
   "outputs": [
    {
     "name": "stderr",
     "output_type": "stream",
     "text": [
      "100%|██████████| 4/4 [00:00<00:00, 26.50it/s]\n"
     ]
    }
   ],
   "source": [
    "cos_sim_test = []\n",
    "for i in tqdm(range(len(summaries_test))):\n",
    "    text_1 = summaries_test['text'][i]\n",
    "    prompt_id = summaries_test['prompt_id'][i]\n",
    "    prompt_output = prompts_test[prompts_test['prompt_id'] == prompt_id]['embeded_prompt_text']\n",
    "    input_text = tokenizer(text_1,max_length=1024,return_tensors='pt')\n",
    "    input_text = {i: v.to(\"cuda\") for i, v in input_text.items()}\n",
    "    with torch.no_grad():\n",
    "        text_output = embedding_model(**input_text)\n",
    "    text_output = text_output.pooler_output\n",
    "    cos_sim_test.append(cosine_similarity(text_output[0].detach().cpu().numpy().reshape(1,-1),np.array(prompt_output.values[0]).reshape(1,-1)))\n",
    "scaler = RobustScaler()\n",
    "summaries_test['cos_sim'] = np.array(cos_sim_test).flatten()\n",
    "summaries_test[['word_counts','smog_index','cos_sim','counts_duplicate', 'own_unique_words']] = scaler.fit_transform(summaries_test[['word_counts','smog_index','cos_sim','counts_duplicate', 'own_unique_words']])"
   ]
  },
  {
   "cell_type": "code",
   "execution_count": 63,
   "metadata": {},
   "outputs": [],
   "source": [
    "X = summaries_train[['word_counts','smog_index','counts_duplicate','cos_sim']]  # ,'own_unique_words'\n",
    "y_content = summaries_train[['content']]\n",
    "y_wording = summaries_train[['wording']]\n",
    "test_data = summaries_test[['word_counts','smog_index','counts_duplicate','cos_sim']] # 'cos_sim','own_unique_words'"
   ]
  },
  {
   "cell_type": "code",
   "execution_count": null,
   "metadata": {},
   "outputs": [],
   "source": [
    "import matplotlib.pyplot as plt\n",
    "plt.scatter(X['own_unique_words'], y_wording)\n",
    "plt.show()"
   ]
  },
  {
   "cell_type": "code",
   "execution_count": 56,
   "metadata": {},
   "outputs": [
    {
     "data": {
      "text/plain": [
       "PearsonRResult(statistic=array([0.6529413299422794], dtype=object), pvalue=0.0)"
      ]
     },
     "execution_count": 56,
     "metadata": {},
     "output_type": "execute_result"
    }
   ],
   "source": [
    "import scipy.stats as stats\n",
    "stats.pearsonr(X['own_unique_words'], y_wording)"
   ]
  },
  {
   "cell_type": "code",
   "execution_count": 65,
   "metadata": {},
   "outputs": [],
   "source": [
    "train_x,valid_x,train_y,valid_y = train_test_split(X,y_content,test_size=0.1,random_state=42)"
   ]
  },
  {
   "cell_type": "code",
   "execution_count": 66,
   "metadata": {},
   "outputs": [
    {
     "name": "stdout",
     "output_type": "stream",
     "text": [
      "{'learn': {'RMSE': 0.4041888363776972}, 'validation': {'RMSE': 0.4663679936477498}}\n"
     ]
    }
   ],
   "source": [
    "model = catboost.CatBoostRegressor(random_state=42, max_depth=5,learning_rate=0.05,objective = 'RMSE',verbose = 0)\n",
    "model.fit(train_x,train_y,eval_set=(valid_x,valid_y))\n",
    "print(model.best_score_)\n",
    "pred_content = model.predict(test_data)"
   ]
  },
  {
   "cell_type": "code",
   "execution_count": 67,
   "metadata": {},
   "outputs": [],
   "source": [
    "train_x,valid_x,train_y,valid_y = train_test_split(X,y_wording,test_size=0.1,random_state=42)"
   ]
  },
  {
   "cell_type": "code",
   "execution_count": 68,
   "metadata": {},
   "outputs": [
    {
     "name": "stdout",
     "output_type": "stream",
     "text": [
      "{'learn': {'RMSE': 0.5436268667686762}, 'validation': {'RMSE': 0.6161636410760295}}\n"
     ]
    }
   ],
   "source": [
    "model = catboost.CatBoostRegressor(random_state=42, max_depth=5,learning_rate=0.05,objective = 'RMSE',verbose = 0)\n",
    "model.fit(train_x,train_y,eval_set=(valid_x,valid_y))\n",
    "print(model.best_score_)\n",
    "pred_wording = model.predict(test_data)"
   ]
  },
  {
   "cell_type": "code",
   "execution_count": 35,
   "metadata": {},
   "outputs": [],
   "source": [
    "submission = pd.read_csv('./data/sample_submission.csv')"
   ]
  },
  {
   "cell_type": "code",
   "execution_count": 49,
   "metadata": {},
   "outputs": [],
   "source": [
    "submission['content'] = pred_content\n",
    "submission['wording'] = pred_wording"
   ]
  },
  {
   "cell_type": "code",
   "execution_count": 50,
   "metadata": {},
   "outputs": [
    {
     "data": {
      "text/html": [
       "<div>\n",
       "<style scoped>\n",
       "    .dataframe tbody tr th:only-of-type {\n",
       "        vertical-align: middle;\n",
       "    }\n",
       "\n",
       "    .dataframe tbody tr th {\n",
       "        vertical-align: top;\n",
       "    }\n",
       "\n",
       "    .dataframe thead th {\n",
       "        text-align: right;\n",
       "    }\n",
       "</style>\n",
       "<table border=\"1\" class=\"dataframe\">\n",
       "  <thead>\n",
       "    <tr style=\"text-align: right;\">\n",
       "      <th></th>\n",
       "      <th>student_id</th>\n",
       "      <th>content</th>\n",
       "      <th>wording</th>\n",
       "    </tr>\n",
       "  </thead>\n",
       "  <tbody>\n",
       "    <tr>\n",
       "      <th>0</th>\n",
       "      <td>000000ffffff</td>\n",
       "      <td>-1.056918</td>\n",
       "      <td>-0.518662</td>\n",
       "    </tr>\n",
       "    <tr>\n",
       "      <th>1</th>\n",
       "      <td>111111eeeeee</td>\n",
       "      <td>-1.129924</td>\n",
       "      <td>-0.675647</td>\n",
       "    </tr>\n",
       "    <tr>\n",
       "      <th>2</th>\n",
       "      <td>222222cccccc</td>\n",
       "      <td>-1.229725</td>\n",
       "      <td>-0.836996</td>\n",
       "    </tr>\n",
       "    <tr>\n",
       "      <th>3</th>\n",
       "      <td>333333dddddd</td>\n",
       "      <td>-1.155395</td>\n",
       "      <td>-0.693272</td>\n",
       "    </tr>\n",
       "  </tbody>\n",
       "</table>\n",
       "</div>"
      ],
      "text/plain": [
       "     student_id   content   wording\n",
       "0  000000ffffff -1.056918 -0.518662\n",
       "1  111111eeeeee -1.129924 -0.675647\n",
       "2  222222cccccc -1.229725 -0.836996\n",
       "3  333333dddddd -1.155395 -0.693272"
      ]
     },
     "execution_count": 50,
     "metadata": {},
     "output_type": "execute_result"
    }
   ],
   "source": [
    "submission"
   ]
  },
  {
   "cell_type": "code",
   "execution_count": null,
   "metadata": {},
   "outputs": [],
   "source": []
  }
 ],
 "metadata": {
  "kernelspec": {
   "display_name": "pytorch_",
   "language": "python",
   "name": "python3"
  },
  "language_info": {
   "codemirror_mode": {
    "name": "ipython",
    "version": 3
   },
   "file_extension": ".py",
   "mimetype": "text/x-python",
   "name": "python",
   "nbconvert_exporter": "python",
   "pygments_lexer": "ipython3",
   "version": "3.9.16"
  },
  "orig_nbformat": 4
 },
 "nbformat": 4,
 "nbformat_minor": 2
}
